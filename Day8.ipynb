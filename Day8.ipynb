{
  "nbformat": 4,
  "nbformat_minor": 0,
  "metadata": {
    "colab": {
      "provenance": [],
      "authorship_tag": "ABX9TyMsE7/WWznsC5melWXcK0Di",
      "include_colab_link": true
    },
    "kernelspec": {
      "name": "python3",
      "display_name": "Python 3"
    },
    "language_info": {
      "name": "python"
    }
  },
  "cells": [
    {
      "cell_type": "markdown",
      "metadata": {
        "id": "view-in-github",
        "colab_type": "text"
      },
      "source": [
        "<a href=\"https://colab.research.google.com/github/Abhigyan76/Movie-Recommendation-System/blob/main/Day8.ipynb\" target=\"_parent\"><img src=\"https://colab.research.google.com/assets/colab-badge.svg\" alt=\"Open In Colab\"/></a>"
      ]
    },
    {
      "cell_type": "code",
      "execution_count": 1,
      "metadata": {
        "id": "3ZU5jHg5eLLY"
      },
      "outputs": [],
      "source": [
        "import pandas as pd\n",
        "import numpy as np"
      ]
    },
    {
      "cell_type": "markdown",
      "source": [
        "How to get the items not common to both series A and series B?"
      ],
      "metadata": {
        "id": "BzxY38J2jVFD"
      }
    },
    {
      "cell_type": "code",
      "source": [
        "ser1 = pd.Series([1, 2, 3, 4, 5])\n",
        "ser2 = pd.Series([4, 5, 6, 7, 8])"
      ],
      "metadata": {
        "id": "l-crbvupfmrw"
      },
      "execution_count": 2,
      "outputs": []
    },
    {
      "cell_type": "code",
      "source": [
        "ser_u = pd.Series(np.union1d(ser1, ser2))  # union"
      ],
      "metadata": {
        "id": "BPNlcos2jaTs"
      },
      "execution_count": 3,
      "outputs": []
    },
    {
      "cell_type": "code",
      "source": [
        "ser_i = pd.Series(np.intersect1d(ser1, ser2))  # intersect\n"
      ],
      "metadata": {
        "id": "iR3sIQY0tYPv"
      },
      "execution_count": 4,
      "outputs": []
    },
    {
      "cell_type": "code",
      "source": [
        "ser_u[~ser_u.isin(ser_i)]"
      ],
      "metadata": {
        "colab": {
          "base_uri": "https://localhost:8080/"
        },
        "id": "1UURnrHOtagp",
        "outputId": "4a4d4740-d80c-41ea-ad94-926183cd10a1"
      },
      "execution_count": 5,
      "outputs": [
        {
          "output_type": "execute_result",
          "data": {
            "text/plain": [
              "0    1\n",
              "1    2\n",
              "2    3\n",
              "5    6\n",
              "6    7\n",
              "7    8\n",
              "dtype: int64"
            ]
          },
          "metadata": {},
          "execution_count": 5
        }
      ]
    },
    {
      "cell_type": "markdown",
      "source": [
        "How to get the minimum, 25th percentile, median, 75th, and max of a numeric series?"
      ],
      "metadata": {
        "id": "N5IJXROEtkGm"
      }
    },
    {
      "cell_type": "code",
      "source": [
        "ser = pd.Series(np.random.normal(10, 5, 25))"
      ],
      "metadata": {
        "id": "1xyoKDhqtdfm"
      },
      "execution_count": 6,
      "outputs": []
    },
    {
      "cell_type": "code",
      "source": [
        "np.percentile(ser, q=[0, 25, 50, 75, 100])"
      ],
      "metadata": {
        "colab": {
          "base_uri": "https://localhost:8080/"
        },
        "id": "rqlmnLZNuNi2",
        "outputId": "9606e4f2-7cc6-458c-f4f0-c4aedd11ca57"
      },
      "execution_count": 7,
      "outputs": [
        {
          "output_type": "execute_result",
          "data": {
            "text/plain": [
              "array([ 0.64728876,  9.00992148, 10.19548188, 14.50020613, 20.44384331])"
            ]
          },
          "metadata": {},
          "execution_count": 7
        }
      ]
    },
    {
      "cell_type": "markdown",
      "source": [
        "Check order of character in string using OrderedDict( )"
      ],
      "metadata": {
        "id": "n69E_TW3uxQr"
      }
    },
    {
      "cell_type": "code",
      "source": [
        "from collections import OrderedDict"
      ],
      "metadata": {
        "id": "vjy5HfTguRRp"
      },
      "execution_count": 8,
      "outputs": []
    },
    {
      "cell_type": "code",
      "source": [
        "def checkOrder(input, pattern):\n",
        "    dict = OrderedDict.fromkeys(input)\n",
        "    ptrlen = 0\n",
        "    for key,value in dict.items():\n",
        "        if (key == pattern[ptrlen]):\n",
        "            ptrlen = ptrlen + 1\n",
        "        if (ptrlen == (len(pattern))):\n",
        "            return 'true'\n",
        "    return 'false'"
      ],
      "metadata": {
        "id": "xKRfFrImu1aQ"
      },
      "execution_count": 9,
      "outputs": []
    },
    {
      "cell_type": "code",
      "source": [
        "if __name__ == \"__main__\":\n",
        "    input = 'engineers rock'\n",
        "    pattern = 'er'\n",
        "    print (checkOrder(input,pattern))"
      ],
      "metadata": {
        "colab": {
          "base_uri": "https://localhost:8080/"
        },
        "id": "1iwgoWdLvm9L",
        "outputId": "77dddb5d-b26c-4480-a028-a83198f53a1b"
      },
      "execution_count": 10,
      "outputs": [
        {
          "output_type": "stream",
          "name": "stdout",
          "text": [
            "true\n"
          ]
        }
      ]
    },
    {
      "cell_type": "code",
      "source": [
        "#Using two pointers"
      ],
      "metadata": {
        "id": "rvMLMxaQvqin"
      },
      "execution_count": 11,
      "outputs": []
    },
    {
      "cell_type": "code",
      "source": [
        "def check_order(string, pattern):\n",
        "    i, j = 0, 0\n",
        "    for char in string:\n",
        "        if char == pattern[j]:\n",
        "            j += 1\n",
        "        if j == len(pattern):\n",
        "            return True\n",
        "        i += 1\n",
        " \n",
        "    return False"
      ],
      "metadata": {
        "id": "ebrYY6uxvujl"
      },
      "execution_count": 12,
      "outputs": []
    },
    {
      "cell_type": "code",
      "source": [
        "string = 'engineers rock'\n",
        "pattern = 'er'"
      ],
      "metadata": {
        "id": "bvXuGuztvx3y"
      },
      "execution_count": 13,
      "outputs": []
    },
    {
      "cell_type": "code",
      "source": [
        "print(check_order(string, pattern))"
      ],
      "metadata": {
        "colab": {
          "base_uri": "https://localhost:8080/"
        },
        "id": "Vg_VoSxSv1qd",
        "outputId": "405b5e30-0de7-4080-fd1c-2aafe880282a"
      },
      "execution_count": 14,
      "outputs": [
        {
          "output_type": "stream",
          "name": "stdout",
          "text": [
            "True\n"
          ]
        }
      ]
    },
    {
      "cell_type": "markdown",
      "source": [
        "Dictionary and counter in Python to find winner of election"
      ],
      "metadata": {
        "id": "vsdUvmfQ7BPq"
      }
    },
    {
      "cell_type": "code",
      "source": [
        "from collections import Counter"
      ],
      "metadata": {
        "id": "43HeJlR_v4LW"
      },
      "execution_count": 16,
      "outputs": []
    },
    {
      "cell_type": "code",
      "source": [
        "def winner(input):\n",
        "    votes = Counter(input)\n",
        "    dict = {}\n",
        " \n",
        "    for value in votes.values():\n",
        "        dict[value] = []\n",
        " \n",
        "    for (key,value) in votes.items():\n",
        "        dict[value].append(key)\n",
        "    maxVote = sorted(dict.keys(),reverse=True)[0]\n",
        "    if len(dict[maxVote])>1:\n",
        "        print (sorted(dict[maxVote])[0])\n",
        "    else:\n",
        "        print (dict[maxVote][0])\n",
        " "
      ],
      "metadata": {
        "id": "StKlph3d7GGT"
      },
      "execution_count": 17,
      "outputs": []
    },
    {
      "cell_type": "code",
      "source": [
        "if __name__ == \"__main__\":\n",
        "    input =['john','johnny','jackie','johnny',\n",
        "            'john','jackie','jamie','jamie',\n",
        "            'john','johnny','jamie','johnny',\n",
        "            'john']\n",
        "    winner(input)"
      ],
      "metadata": {
        "colab": {
          "base_uri": "https://localhost:8080/"
        },
        "id": "uaaKVfHJ7WNm",
        "outputId": "72d20fea-cf37-4f64-e9b7-4e00b5e796a7"
      },
      "execution_count": 18,
      "outputs": [
        {
          "output_type": "stream",
          "name": "stdout",
          "text": [
            "john\n"
          ]
        }
      ]
    },
    {
      "cell_type": "code",
      "source": [
        "#Method 2: "
      ],
      "metadata": {
        "id": "Poc474rP7Yh6"
      },
      "execution_count": 19,
      "outputs": []
    },
    {
      "cell_type": "code",
      "source": [
        "from collections import Counter"
      ],
      "metadata": {
        "id": "a8n6_A2V7dlM"
      },
      "execution_count": 20,
      "outputs": []
    },
    {
      "cell_type": "code",
      "source": [
        "votes =['john','johnny','jackie','johnny','john','jackie',\n",
        "    'jamie','jamie','john','johnny','jamie','johnny','john']"
      ],
      "metadata": {
        "id": "k8UNqZ2F7f-y"
      },
      "execution_count": 21,
      "outputs": []
    },
    {
      "cell_type": "code",
      "source": [
        "vote_count=Counter(votes)"
      ],
      "metadata": {
        "id": "6RJP3Hkz7jA7"
      },
      "execution_count": 22,
      "outputs": []
    },
    {
      "cell_type": "code",
      "source": [
        "max_votes=max(vote_count.values())"
      ],
      "metadata": {
        "id": "NW-5DE3Y7k7-"
      },
      "execution_count": 23,
      "outputs": []
    },
    {
      "cell_type": "code",
      "source": [
        "lst=[i for i in vote_count.keys() if vote_count[i]==max_votes]"
      ],
      "metadata": {
        "id": "bM6l3CNF7pY0"
      },
      "execution_count": 24,
      "outputs": []
    },
    {
      "cell_type": "code",
      "source": [
        "print(sorted(lst)[0])"
      ],
      "metadata": {
        "id": "eXoQzgdW7r55",
        "outputId": "f1300025-afdd-4d03-d884-8971317e59cb",
        "colab": {
          "base_uri": "https://localhost:8080/"
        }
      },
      "execution_count": 25,
      "outputs": [
        {
          "output_type": "stream",
          "name": "stdout",
          "text": [
            "john\n"
          ]
        }
      ]
    },
    {
      "cell_type": "markdown",
      "source": [
        "Python – Append Dictionary Keys and Values ( In order ) in dictionary"
      ],
      "metadata": {
        "id": "kBBTmkYS76tt"
      }
    },
    {
      "cell_type": "code",
      "source": [
        "test_dict = {\"Gfg\" : 1, \"is\" :  3, \"Best\" : 2}"
      ],
      "metadata": {
        "id": "Itst1Pks7zkp"
      },
      "execution_count": 26,
      "outputs": []
    },
    {
      "cell_type": "code",
      "source": [
        "print(\"The original dictionary is : \" + str(test_dict))"
      ],
      "metadata": {
        "id": "RugAfpCZ7-ZA",
        "outputId": "6f6674d4-8070-45c4-a593-a2207d0cbd50",
        "colab": {
          "base_uri": "https://localhost:8080/"
        }
      },
      "execution_count": 27,
      "outputs": [
        {
          "output_type": "stream",
          "name": "stdout",
          "text": [
            "The original dictionary is : {'Gfg': 1, 'is': 3, 'Best': 2}\n"
          ]
        }
      ]
    },
    {
      "cell_type": "code",
      "source": [
        "res = list(test_dict.keys()) + list(test_dict.values())"
      ],
      "metadata": {
        "id": "8ElG5dLJ8AuY"
      },
      "execution_count": 28,
      "outputs": []
    },
    {
      "cell_type": "code",
      "source": [
        "print(\"The ordered keys and values : \" + str(res))"
      ],
      "metadata": {
        "id": "Q7_bWMlC8C2V",
        "outputId": "2a049ef4-5cf2-477d-da29-0f9439841c4f",
        "colab": {
          "base_uri": "https://localhost:8080/"
        }
      },
      "execution_count": 29,
      "outputs": [
        {
          "output_type": "stream",
          "name": "stdout",
          "text": [
            "The ordered keys and values : ['Gfg', 'is', 'Best', 1, 3, 2]\n"
          ]
        }
      ]
    },
    {
      "cell_type": "markdown",
      "source": [
        " Using chain() + keys() + values()"
      ],
      "metadata": {
        "id": "UVugK39a8Hsk"
      }
    },
    {
      "cell_type": "code",
      "source": [
        "from itertools import chain"
      ],
      "metadata": {
        "id": "BGi5xixI8Ere"
      },
      "execution_count": 30,
      "outputs": []
    },
    {
      "cell_type": "code",
      "source": [
        "test_dict = {\"Gfg\" : 1, \"is\" :  3, \"Best\" : 2}"
      ],
      "metadata": {
        "id": "BSXbRGEp8NZ4"
      },
      "execution_count": 31,
      "outputs": []
    },
    {
      "cell_type": "code",
      "source": [
        "print(\"The original dictionary is : \" + str(test_dict))"
      ],
      "metadata": {
        "id": "2dR87Tjf8PhG",
        "outputId": "bfde555e-cec7-4f52-b125-8d4e5d46fc45",
        "colab": {
          "base_uri": "https://localhost:8080/"
        }
      },
      "execution_count": 32,
      "outputs": [
        {
          "output_type": "stream",
          "name": "stdout",
          "text": [
            "The original dictionary is : {'Gfg': 1, 'is': 3, 'Best': 2}\n"
          ]
        }
      ]
    },
    {
      "cell_type": "code",
      "source": [
        "res = list(chain(test_dict.keys(), test_dict.values()))\n",
        "print(\"The ordered keys and values : \" + str(res))"
      ],
      "metadata": {
        "id": "fksgCjC-8So3",
        "outputId": "265093a1-f625-4eec-e773-07c874528d71",
        "colab": {
          "base_uri": "https://localhost:8080/"
        }
      },
      "execution_count": 33,
      "outputs": [
        {
          "output_type": "stream",
          "name": "stdout",
          "text": [
            "The ordered keys and values : ['Gfg', 'is', 'Best', 1, 3, 2]\n"
          ]
        }
      ]
    },
    {
      "cell_type": "markdown",
      "source": [
        " Using  list() +keys() + values() + extend()"
      ],
      "metadata": {
        "id": "oX3myRmW8ZXH"
      }
    },
    {
      "cell_type": "code",
      "source": [
        "test_dict = {\"Gfg\": 1, \"is\": 3, \"Best\": 2}"
      ],
      "metadata": {
        "id": "FuMWYHSh8WXb"
      },
      "execution_count": 34,
      "outputs": []
    },
    {
      "cell_type": "code",
      "source": [
        "print(\"The original dictionary is : \" + str(test_dict))"
      ],
      "metadata": {
        "id": "dnpMPs_y8cLE",
        "outputId": "5b0a3c9c-5e56-4762-8dbb-346b7f82d30d",
        "colab": {
          "base_uri": "https://localhost:8080/"
        }
      },
      "execution_count": 35,
      "outputs": [
        {
          "output_type": "stream",
          "name": "stdout",
          "text": [
            "The original dictionary is : {'Gfg': 1, 'is': 3, 'Best': 2}\n"
          ]
        }
      ]
    },
    {
      "cell_type": "code",
      "source": [
        "a = list(test_dict.keys())\n",
        "b = list(test_dict.values())\n",
        "a.extend(b)\n",
        "res = a"
      ],
      "metadata": {
        "id": "q6PMtmYx8eax"
      },
      "execution_count": 41,
      "outputs": []
    },
    {
      "cell_type": "code",
      "source": [
        "print(\"The ordered keys and values : \" + str(res))"
      ],
      "metadata": {
        "id": "TETi4TFt8hBa",
        "outputId": "d2f0168f-8d45-44de-9ae5-ecc41d269bf7",
        "colab": {
          "base_uri": "https://localhost:8080/"
        }
      },
      "execution_count": 42,
      "outputs": [
        {
          "output_type": "stream",
          "name": "stdout",
          "text": [
            "The ordered keys and values : ['Gfg', 'is', 'Best', 1, 3, 2]\n"
          ]
        }
      ]
    },
    {
      "cell_type": "markdown",
      "source": [
        "Using zip() function and list comprehension"
      ],
      "metadata": {
        "id": "4cOhcZTJ8tgs"
      }
    },
    {
      "cell_type": "code",
      "source": [
        "test_dict = {\"Gfg\": 1, \"is\": 3, \"Best\": 2}"
      ],
      "metadata": {
        "id": "NXfjOD_48jay"
      },
      "execution_count": 43,
      "outputs": []
    },
    {
      "cell_type": "code",
      "source": [
        "print(\"The original dictionary is : \" + str(test_dict))"
      ],
      "metadata": {
        "id": "UJUTUBUS8wpn",
        "outputId": "14f12f0e-59cc-4434-abbb-820dcdcb6fe0",
        "colab": {
          "base_uri": "https://localhost:8080/"
        }
      },
      "execution_count": 44,
      "outputs": [
        {
          "output_type": "stream",
          "name": "stdout",
          "text": [
            "The original dictionary is : {'Gfg': 1, 'is': 3, 'Best': 2}\n"
          ]
        }
      ]
    },
    {
      "cell_type": "code",
      "source": [
        "res = [val for val in zip(test_dict.values(), test_dict.keys())]"
      ],
      "metadata": {
        "id": "Fz0zv5388zhe"
      },
      "execution_count": 45,
      "outputs": []
    },
    {
      "cell_type": "code",
      "source": [
        "print(\"The ordered keys and values : \" + str(res))"
      ],
      "metadata": {
        "id": "AoXco51l814T",
        "outputId": "d1de640e-318d-479d-c211-aa5bc5a1eacd",
        "colab": {
          "base_uri": "https://localhost:8080/"
        }
      },
      "execution_count": 46,
      "outputs": [
        {
          "output_type": "stream",
          "name": "stdout",
          "text": [
            "The ordered keys and values : [(1, 'Gfg'), (3, 'is'), (2, 'Best')]\n"
          ]
        }
      ]
    },
    {
      "cell_type": "markdown",
      "source": [
        "Using sorted() function and list comprehension"
      ],
      "metadata": {
        "id": "qVlzDAiy87SG"
      }
    },
    {
      "cell_type": "code",
      "source": [
        "test_dict = {\"Gfg\" : 1, \"is\" :  3, \"Best\" : 2}"
      ],
      "metadata": {
        "id": "yyvlqOB983-7"
      },
      "execution_count": 47,
      "outputs": []
    },
    {
      "cell_type": "code",
      "source": [
        "print(\"The original dictionary is : \" + str(test_dict))"
      ],
      "metadata": {
        "id": "kanrkETd8-Rg",
        "outputId": "2e7be474-f4a4-4129-9370-c4d33d964c18",
        "colab": {
          "base_uri": "https://localhost:8080/"
        }
      },
      "execution_count": 48,
      "outputs": [
        {
          "output_type": "stream",
          "name": "stdout",
          "text": [
            "The original dictionary is : {'Gfg': 1, 'is': 3, 'Best': 2}\n"
          ]
        }
      ]
    },
    {
      "cell_type": "code",
      "source": [
        "keys = sorted(test_dict.keys())"
      ],
      "metadata": {
        "id": "sddAN_Kw9BLu"
      },
      "execution_count": 49,
      "outputs": []
    },
    {
      "cell_type": "code",
      "source": [
        "values = [test_dict[key] for key in keys]"
      ],
      "metadata": {
        "id": "8yDFof7X9EOg"
      },
      "execution_count": 50,
      "outputs": []
    },
    {
      "cell_type": "code",
      "source": [
        "res = keys + values\n",
        "print(\"The ordered keys and values : \" + str(res))"
      ],
      "metadata": {
        "id": "nMNk6Wah9Get",
        "outputId": "d29370bd-302f-4b5e-dc93-d37b64bc8a57",
        "colab": {
          "base_uri": "https://localhost:8080/"
        }
      },
      "execution_count": 51,
      "outputs": [
        {
          "output_type": "stream",
          "name": "stdout",
          "text": [
            "The ordered keys and values : ['Best', 'Gfg', 'is', 2, 1, 3]\n"
          ]
        }
      ]
    },
    {
      "cell_type": "code",
      "source": [],
      "metadata": {
        "id": "cEKmKkoi9KXC"
      },
      "execution_count": null,
      "outputs": []
    }
  ]
}