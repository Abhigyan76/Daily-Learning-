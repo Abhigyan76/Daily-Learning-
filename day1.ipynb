{
  "nbformat": 4,
  "nbformat_minor": 0,
  "metadata": {
    "colab": {
      "provenance": [],
      "authorship_tag": "ABX9TyN/fXIczN9ZIKHID3Bync9E",
      "include_colab_link": true
    },
    "kernelspec": {
      "name": "python3",
      "display_name": "Python 3"
    },
    "language_info": {
      "name": "python"
    }
  },
  "cells": [
    {
      "cell_type": "markdown",
      "metadata": {
        "id": "view-in-github",
        "colab_type": "text"
      },
      "source": [
        "<a href=\"https://colab.research.google.com/github/Abhigyan76/Movie-Recommendation-System/blob/main/day1.ipynb\" target=\"_parent\"><img src=\"https://colab.research.google.com/assets/colab-badge.svg\" alt=\"Open In Colab\"/></a>"
      ]
    },
    {
      "cell_type": "code",
      "execution_count": 1,
      "metadata": {
        "id": "p2lkHi02ygUX"
      },
      "outputs": [],
      "source": [
        "import numpy as np\n",
        "import pandas as pd"
      ]
    },
    {
      "cell_type": "markdown",
      "source": [
        "1.Write a program to accept two numbers from the user and calculate multiplication"
      ],
      "metadata": {
        "id": "Ox7eUFb3yq26"
      }
    },
    {
      "cell_type": "code",
      "source": [
        "#a and b are two integers\n",
        "a=int(input(\"Enter a no.: \"))\n",
        "b=int(input(\"Enter a no.: \"))\n",
        "product=a*b\n",
        "print(product)\n"
      ],
      "metadata": {
        "colab": {
          "base_uri": "https://localhost:8080/"
        },
        "id": "tzSn03cLysOA",
        "outputId": "31555331-a6ba-41c3-f44a-385a0d1a43c4"
      },
      "execution_count": 2,
      "outputs": [
        {
          "output_type": "stream",
          "name": "stdout",
          "text": [
            "Enter a no.: 4\n",
            "Enter a no.: 3\n",
            "12\n"
          ]
        }
      ]
    },
    {
      "cell_type": "markdown",
      "source": [
        "2.Convert Decimal number to octal using print() output formatting"
      ],
      "metadata": {
        "id": "k3T_BT1qy5tp"
      }
    },
    {
      "cell_type": "code",
      "source": [
        "num = int(input(\"Enter a no.: \"))\n",
        "print('%o' % num)\n"
      ],
      "metadata": {
        "colab": {
          "base_uri": "https://localhost:8080/"
        },
        "id": "wKQMDLu7yxH4",
        "outputId": "097f1159-70e7-4c6d-eeb5-bacbe6ce70ac"
      },
      "execution_count": 3,
      "outputs": [
        {
          "output_type": "stream",
          "name": "stdout",
          "text": [
            "Enter a no.: 6\n",
            "6\n"
          ]
        }
      ]
    },
    {
      "cell_type": "markdown",
      "source": [
        "LOOPS\n"
      ],
      "metadata": {
        "id": "bsvItj9izhm5"
      }
    },
    {
      "cell_type": "code",
      "source": [
        "name =\"Abhigyan\"\n",
        "for i in name:\n",
        "    print(i)\n",
        "     "
      ],
      "metadata": {
        "colab": {
          "base_uri": "https://localhost:8080/"
        },
        "id": "liIv8hv8y4GJ",
        "outputId": "546b3809-8cb8-424f-8f1f-b12a963c1dcf"
      },
      "execution_count": 6,
      "outputs": [
        {
          "output_type": "stream",
          "name": "stdout",
          "text": [
            "A\n",
            "b\n",
            "h\n",
            "i\n",
            "g\n",
            "y\n",
            "a\n",
            "n\n"
          ]
        }
      ]
    },
    {
      "cell_type": "code",
      "source": [
        "colors = [\"red\",\"Yellow\",\"Pink\"]\n",
        "for color in colors():\n",
        "  print(color)"
      ],
      "metadata": {
        "colab": {
          "base_uri": "https://localhost:8080/",
          "height": 200
        },
        "id": "6y_W--6jzLRa",
        "outputId": "bbddd200-4398-4617-d5c3-7914a3b13a1c"
      },
      "execution_count": 35,
      "outputs": [
        {
          "output_type": "error",
          "ename": "TypeError",
          "evalue": "ignored",
          "traceback": [
            "\u001b[0;31m---------------------------------------------------------------------------\u001b[0m",
            "\u001b[0;31mTypeError\u001b[0m                                 Traceback (most recent call last)",
            "\u001b[0;32m<ipython-input-35-f1aee8ba231b>\u001b[0m in \u001b[0;36m<cell line: 2>\u001b[0;34m()\u001b[0m\n\u001b[1;32m      1\u001b[0m \u001b[0mcolors\u001b[0m \u001b[0;34m=\u001b[0m \u001b[0;34m[\u001b[0m\u001b[0;34m\"red\"\u001b[0m\u001b[0;34m,\u001b[0m\u001b[0;34m\"Yellow\"\u001b[0m\u001b[0;34m,\u001b[0m\u001b[0;34m\"Pink\"\u001b[0m\u001b[0;34m]\u001b[0m\u001b[0;34m\u001b[0m\u001b[0;34m\u001b[0m\u001b[0m\n\u001b[0;32m----> 2\u001b[0;31m \u001b[0;32mfor\u001b[0m \u001b[0mcolor\u001b[0m \u001b[0;32min\u001b[0m \u001b[0mcolors\u001b[0m\u001b[0;34m(\u001b[0m\u001b[0;34m)\u001b[0m\u001b[0;34m:\u001b[0m\u001b[0;34m\u001b[0m\u001b[0;34m\u001b[0m\u001b[0m\n\u001b[0m\u001b[1;32m      3\u001b[0m   \u001b[0mprint\u001b[0m\u001b[0;34m(\u001b[0m\u001b[0mcolor\u001b[0m\u001b[0;34m)\u001b[0m\u001b[0;34m\u001b[0m\u001b[0;34m\u001b[0m\u001b[0m\n",
            "\u001b[0;31mTypeError\u001b[0m: 'list' object is not callable"
          ]
        }
      ]
    },
    {
      "cell_type": "code",
      "source": [
        "for k in range(5):\n",
        "  print(k)"
      ],
      "metadata": {
        "colab": {
          "base_uri": "https://localhost:8080/"
        },
        "id": "vJ1KQkyB0cVB",
        "outputId": "eaa3af7a-bf88-4e53-9c9b-8ba1d2bcc3e9"
      },
      "execution_count": 15,
      "outputs": [
        {
          "output_type": "stream",
          "name": "stdout",
          "text": [
            "0\n",
            "1\n",
            "2\n",
            "3\n",
            "4\n"
          ]
        }
      ]
    },
    {
      "cell_type": "markdown",
      "source": [
        "6.Write a program to print the following number pattern using a loop.\n",
        "1 \n",
        "1 2 \n",
        "1 2 3 \n",
        "1 2 3 4 \n",
        "1 2 3 4 5"
      ],
      "metadata": {
        "id": "aOYEpnPUy-_o"
      }
    },
    {
      "cell_type": "code",
      "source": [
        "a = 1\n",
        "while (a<=10):\n",
        "  print(a)\n",
        "  a=a+1"
      ],
      "metadata": {
        "colab": {
          "base_uri": "https://localhost:8080/"
        },
        "id": "uQ-vtkmR1rdR",
        "outputId": "9f9b0003-731d-49c9-d2a4-8c04ec4f5bc4"
      },
      "execution_count": 21,
      "outputs": [
        {
          "output_type": "stream",
          "name": "stdout",
          "text": [
            "1\n",
            "2\n",
            "3\n",
            "4\n",
            "5\n",
            "6\n",
            "7\n",
            "8\n",
            "9\n",
            "10\n"
          ]
        }
      ]
    },
    {
      "cell_type": "markdown",
      "source": [
        "7. Calculate the sum of all numbers from 1 to a given number"
      ],
      "metadata": {
        "id": "x5WvUf0ty4k5"
      }
    },
    {
      "cell_type": "code",
      "source": [
        "s = 0\n",
        "n = int(input(\"Enter number \"))\n",
        "for i in range(1, n + 1, 1):\n",
        "    # add current number to sum variable\n",
        "    s += i\n",
        "print(\"\\n\")\n",
        "print(\"Sum is: \", s)\n"
      ],
      "metadata": {
        "colab": {
          "base_uri": "https://localhost:8080/"
        },
        "id": "63uREx9l22kY",
        "outputId": "85d00547-9ab0-48af-840c-1796073c27e6"
      },
      "execution_count": 25,
      "outputs": [
        {
          "output_type": "stream",
          "name": "stdout",
          "text": [
            "Enter number 5\n",
            "\n",
            "\n",
            "Sum is:  15\n"
          ]
        }
      ]
    },
    {
      "cell_type": "markdown",
      "source": [
        "8. Write a program to print multiplication table of a given number"
      ],
      "metadata": {
        "id": "xU3u7lN438qZ"
      }
    },
    {
      "cell_type": "code",
      "source": [
        "a=2\n",
        "for i in range(1,11,1):\n",
        "  product=2*i\n",
        "  print(product)"
      ],
      "metadata": {
        "colab": {
          "base_uri": "https://localhost:8080/"
        },
        "id": "hLOqTk8z39zO",
        "outputId": "7b3b7987-f975-4eda-80bb-a6f1c200e4b4"
      },
      "execution_count": 30,
      "outputs": [
        {
          "output_type": "stream",
          "name": "stdout",
          "text": [
            "2\n",
            "4\n",
            "6\n",
            "8\n",
            "10\n",
            "12\n",
            "14\n",
            "16\n",
            "18\n",
            "20\n"
          ]
        }
      ]
    },
    {
      "cell_type": "markdown",
      "source": [
        "9. Display numbers from a list using loop\n",
        "\n",
        "Write a program to display only those numbers from a list that satisfy the following conditions\n",
        "\n",
        "The number must be divisible by five\n",
        "If the number is greater than 150, then skip it and move to the next number\n",
        "If the number is greater than 500, then stop the loop\n",
        "Given:\n",
        "\n",
        "numbers = [12, 75, 150, 180, 145, 525, 50]"
      ],
      "metadata": {
        "id": "ugAUpRyS4vIR"
      }
    },
    {
      "cell_type": "code",
      "source": [
        "numbers = [12, 75, 150, 180, 145, 525, 50]\n",
        "for i in numbers:\n",
        "    if i> 500:\n",
        "        break\n",
        "    elif i> 150:\n",
        "        continue\n",
        "    elif i % 5 == 0:\n",
        "        print(i)"
      ],
      "metadata": {
        "colab": {
          "base_uri": "https://localhost:8080/"
        },
        "id": "jTGhX6xm4wXv",
        "outputId": "f0fd7e91-53e7-49ed-fc53-1d1ab44381bd"
      },
      "execution_count": 36,
      "outputs": [
        {
          "output_type": "stream",
          "name": "stdout",
          "text": [
            "75\n",
            "150\n",
            "145\n"
          ]
        }
      ]
    },
    {
      "cell_type": "markdown",
      "source": [
        "10.Count the total number of digits in a number\n",
        "Write a program to count the total number of digits in a number using a while loop."
      ],
      "metadata": {
        "id": "QiIKgY4o6sZp"
      }
    },
    {
      "cell_type": "code",
      "source": [
        "num = 75869\n",
        "count = 0\n",
        "while num != 0:\n",
        "    num = num // 10\n",
        "    count = count + 1\n",
        "print(\"Total digits are:\", count)"
      ],
      "metadata": {
        "colab": {
          "base_uri": "https://localhost:8080/"
        },
        "id": "InLqeHNh6t5v",
        "outputId": "5f31eb65-921f-4eee-ca6b-4b5e5ec24c7f"
      },
      "execution_count": 37,
      "outputs": [
        {
          "output_type": "stream",
          "name": "stdout",
          "text": [
            "Total digits are: 5\n"
          ]
        }
      ]
    },
    {
      "cell_type": "markdown",
      "source": [
        "11.Display numbers from -10 to -1 using for loop\n"
      ],
      "metadata": {
        "id": "QgnPviXP7ozf"
      }
    },
    {
      "cell_type": "code",
      "source": [
        "for num in range(-10, 0, 1):\n",
        "    print(num)"
      ],
      "metadata": {
        "colab": {
          "base_uri": "https://localhost:8080/"
        },
        "id": "JGf3PPIv7tgP",
        "outputId": "92323203-f2ce-47cd-adba-bd60917e9398"
      },
      "execution_count": 38,
      "outputs": [
        {
          "output_type": "stream",
          "name": "stdout",
          "text": [
            "-10\n",
            "-9\n",
            "-8\n",
            "-7\n",
            "-6\n",
            "-5\n",
            "-4\n",
            "-3\n",
            "-2\n",
            "-1\n"
          ]
        }
      ]
    },
    {
      "cell_type": "code",
      "source": [],
      "metadata": {
        "id": "WAZkh-nH7xwX"
      },
      "execution_count": null,
      "outputs": []
    }
  ]
}