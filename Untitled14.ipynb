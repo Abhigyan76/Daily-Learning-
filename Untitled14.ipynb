{
  "nbformat": 4,
  "nbformat_minor": 0,
  "metadata": {
    "colab": {
      "provenance": [],
      "authorship_tag": "ABX9TyNIUk0ZhlAtOUjJrP0cZFyr",
      "include_colab_link": true
    },
    "kernelspec": {
      "name": "python3",
      "display_name": "Python 3"
    },
    "language_info": {
      "name": "python"
    }
  },
  "cells": [
    {
      "cell_type": "markdown",
      "metadata": {
        "id": "view-in-github",
        "colab_type": "text"
      },
      "source": [
        "<a href=\"https://colab.research.google.com/github/Abhigyan76/Movie-Recommendation-System/blob/main/Untitled14.ipynb\" target=\"_parent\"><img src=\"https://colab.research.google.com/assets/colab-badge.svg\" alt=\"Open In Colab\"/></a>"
      ]
    },
    {
      "cell_type": "code",
      "execution_count": null,
      "metadata": {
        "id": "fHa84DihlfJg"
      },
      "outputs": [],
      "source": []
    },
    {
      "cell_type": "markdown",
      "source": [
        "Print Square Sequence using yield\n",
        "    Create Generator method such that every time it will returns a next square number\n",
        "\n",
        "for exmaple : 1 4 9 16 ..\n",
        "\n",
        "    "
      ],
      "metadata": {
        "id": "8LWzrPWklnFz"
      }
    },
    {
      "cell_type": "code",
      "source": [
        "def square():\n",
        "  i = 1\n",
        "  while True:\n",
        "    yield i*i\n",
        "    i+=1\n",
        "for n in square():\n",
        "  if n> 25:\n",
        "    break\n",
        "  print(n)\n"
      ],
      "metadata": {
        "colab": {
          "base_uri": "https://localhost:8080/"
        },
        "id": "95zO6Nsklo37",
        "outputId": "dae4df47-20ac-4852-b6f4-08da0cf80f43"
      },
      "execution_count": 3,
      "outputs": [
        {
          "output_type": "stream",
          "name": "stdout",
          "text": [
            "1\n",
            "4\n",
            "9\n",
            "16\n",
            "25\n"
          ]
        }
      ]
    },
    {
      "cell_type": "markdown",
      "source": [
        "Create a Dictionary which contains the Binary values mapping with numbers found in the below integer and binary and save it in binary_dict.\n",
        "Example :\n",
        "\n",
        "    integer = [0, 1, 2, 3, 4]\n",
        "    binary = [\"0\", \"1\", \"10\", \"11\", \"100\"]\n",
        "    binary_dict = {0:\"0\", 1:\"1\", 2:\"10\", 3: \"11\", 4:\"100\"}"
      ],
      "metadata": {
        "id": "EtszatDlACaN"
      }
    },
    {
      "cell_type": "code",
      "source": [
        "integer = [0, 1, 2, 3, 4]\n",
        "binary = [\"0\", \"1\", \"10\", \"11\", \"100\"]\n",
        "binary_dict = {0:\"0\", 1:\"1\", 2:\"10\", 3: \"11\", 4:\"100\"}"
      ],
      "metadata": {
        "id": "kt1CLYHK_h9N"
      },
      "execution_count": 4,
      "outputs": []
    },
    {
      "cell_type": "markdown",
      "source": [
        "Create a List which contains additive inverse of a given integer list. An additive inverse a for an integer i is a number such that:\n",
        "a + i = 0"
      ],
      "metadata": {
        "id": "OgvysNMNBGs-"
      }
    },
    {
      "cell_type": "code",
      "source": [
        "integer = [1, -1, 2, 3, 5, 0, 6]\n",
        "add_inverse = [-1*i for i in integer]\n",
        "print(add_inverse)"
      ],
      "metadata": {
        "colab": {
          "base_uri": "https://localhost:8080/"
        },
        "id": "CfFAdQ3FBDZm",
        "outputId": "9f14a0b0-8424-429f-d738-8201c089bc07"
      },
      "execution_count": 5,
      "outputs": [
        {
          "output_type": "stream",
          "name": "stdout",
          "text": [
            "[-1, 1, -2, -3, -5, 0, -6]\n"
          ]
        }
      ]
    },
    {
      "cell_type": "markdown",
      "source": [
        "Create a set which only contains unique sqaures from a given a integer list.\n",
        "integer = [1, -1, 2, -2, 3, -3]\n",
        "sq_set = {1, 4, 9}"
      ],
      "metadata": {
        "id": "lfNRkgW1Tm0B"
      }
    },
    {
      "cell_type": "code",
      "source": [
        "integer = [1, -1, 2, -2, 3, -3]\n",
        "# sq_set = {1, 4, 9}\n",
        "sq_set = {i*i for i in integer}\n",
        "print(sq_set)"
      ],
      "metadata": {
        "colab": {
          "base_uri": "https://localhost:8080/"
        },
        "id": "UwzyYSuZThMh",
        "outputId": "895d2d15-1d78-4d44-81e8-ca83ea7e57cb"
      },
      "execution_count": 11,
      "outputs": [
        {
          "output_type": "stream",
          "name": "stdout",
          "text": [
            "{1, 4, 9}\n"
          ]
        }
      ]
    },
    {
      "cell_type": "markdown",
      "source": [
        "create any set anf try to use frozenset(setname)"
      ],
      "metadata": {
        "id": "AG2s0gPyUuRB"
      }
    },
    {
      "cell_type": "code",
      "source": [
        "setname={\"name\":\"Abhigyan\",\"age\":22,\"sex\":\"male\"}\n",
        "fset = frozenset(setname)\n",
        "print(\"the frozenset is \", fset)"
      ],
      "metadata": {
        "colab": {
          "base_uri": "https://localhost:8080/"
        },
        "id": "R_CX0KxoUHuh",
        "outputId": "590e3bf8-0280-43b9-f497-27580b8e797e"
      },
      "execution_count": 13,
      "outputs": [
        {
          "output_type": "stream",
          "name": "stdout",
          "text": [
            "the frozenset is  frozenset({'age', 'name', 'sex'})\n"
          ]
        }
      ]
    },
    {
      "cell_type": "markdown",
      "source": [
        "Find the elements in a given set that are not in another set\n",
        "\n",
        "    set1 = {1,2,3,4,5}\n",
        "    set2 = {4,5,6,7,8}\n",
        "\n",
        "    diffrence between set1 and set2 is {1,2,3}\n",
        "     "
      ],
      "metadata": {
        "id": "732yvAsuVpQp"
      }
    },
    {
      "cell_type": "code",
      "source": [
        "set1 = {1,2,3,4,5}\n",
        "set2 = {4,5,6,7,8}\n",
        "differnece = set1 - set2"
      ],
      "metadata": {
        "id": "XxKEmqsZVcZ4"
      },
      "execution_count": 14,
      "outputs": []
    },
    {
      "cell_type": "code",
      "source": [
        "print(differnece)"
      ],
      "metadata": {
        "colab": {
          "base_uri": "https://localhost:8080/"
        },
        "id": "SrnW5GogVxj_",
        "outputId": "2480413b-c789-4adb-8a34-5ff92189b550"
      },
      "execution_count": 15,
      "outputs": [
        {
          "output_type": "stream",
          "name": "stdout",
          "text": [
            "{1, 2, 3}\n"
          ]
        }
      ]
    },
    {
      "cell_type": "markdown",
      "source": [
        "Take subject marks as command line arguments\n",
        "example:\n",
        "    python3 cmd.py --physics 60 --chemistry 70 --maths 90"
      ],
      "metadata": {
        "id": "Orr-bP0_V7of"
      }
    },
    {
      "cell_type": "code",
      "source": [
        "#ye aargparse smjh nhi aaya"
      ],
      "metadata": {
        "id": "2pfmdIvTV1lf"
      },
      "execution_count": 16,
      "outputs": []
    },
    {
      "cell_type": "markdown",
      "source": [
        "Create a decorator function to check that the argument passed to the function factorial is a non-negative integer:"
      ],
      "metadata": {
        "id": "tN0AJnnqYnAs"
      }
    },
    {
      "cell_type": "code",
      "source": [
        "def decorator(f):\n",
        "  def helper(X):\n",
        "    if type(x)== int and x>0:\n",
        "      return(f(x))\n",
        "    else:\n",
        "      raise Exception(\"Argument is non negative integer\")\n",
        "  return helper\n",
        ""
      ],
      "metadata": {
        "id": "48HpUoGMYigm"
      },
      "execution_count": 17,
      "outputs": []
    },
    {
      "cell_type": "markdown",
      "source": [
        "Create a factorial function which finds the factorial of a number.\n",
        "\n"
      ],
      "metadata": {
        "id": "kyq3kN2Lfd5O"
      }
    },
    {
      "cell_type": "code",
      "source": [
        "def factorial():\n",
        "  if n==1:\n",
        "    return 1\n",
        "  else :\n",
        "    return n * factorial(n-1)\n"
      ],
      "metadata": {
        "id": "c8U9Y2kKfXX3"
      },
      "execution_count": 18,
      "outputs": []
    },
    {
      "cell_type": "markdown",
      "source": [
        "Use the decorator to decorate the factorial function to only allow factorial of non-negative integers.\n",
        "\n",
        "example:\n",
        "\n",
        "    factorial(1.354) : raise Exception or print error message\n",
        "    factorial(-1) : raise Exception or print error message\n",
        "    factorial(5) : 60\n"
      ],
      "metadata": {
        "id": "zp3gx0lygr8g"
      }
    },
    {
      "cell_type": "code",
      "source": [
        "for i in range(1, 10):\n",
        "    print(i,factorial(i))\n",
        "\n",
        "try:\n",
        "    print(factorial(-1))\n",
        "except Exception as e:\n",
        "    e.print_exception()\n",
        "\n",
        "try:\n",
        "    print(factorial(1.354))\n",
        "except Exception as e:\n",
        "    e.print_exception()\n",
        "try:\n",
        "   print(factorial(5))\n",
        "except Exception as e:\n",
        "   e.print_exception()"
      ],
      "metadata": {
        "colab": {
          "base_uri": "https://localhost:8080/",
          "height": 235
        },
        "id": "Isltoux5glVu",
        "outputId": "39dd5dae-a89e-4da6-e920-b60a9bf740b6"
      },
      "execution_count": 22,
      "outputs": [
        {
          "output_type": "error",
          "ename": "TypeError",
          "evalue": "ignored",
          "traceback": [
            "\u001b[0;31m---------------------------------------------------------------------------\u001b[0m",
            "\u001b[0;31mTypeError\u001b[0m                                 Traceback (most recent call last)",
            "\u001b[0;32m<ipython-input-22-bf496b63dc13>\u001b[0m in \u001b[0;36m<cell line: 1>\u001b[0;34m()\u001b[0m\n\u001b[1;32m      1\u001b[0m \u001b[0;32mfor\u001b[0m \u001b[0mi\u001b[0m \u001b[0;32min\u001b[0m \u001b[0mrange\u001b[0m\u001b[0;34m(\u001b[0m\u001b[0;36m1\u001b[0m\u001b[0;34m,\u001b[0m \u001b[0;36m10\u001b[0m\u001b[0;34m)\u001b[0m\u001b[0;34m:\u001b[0m\u001b[0;34m\u001b[0m\u001b[0;34m\u001b[0m\u001b[0m\n\u001b[0;32m----> 2\u001b[0;31m     \u001b[0mprint\u001b[0m\u001b[0;34m(\u001b[0m\u001b[0mi\u001b[0m\u001b[0;34m,\u001b[0m\u001b[0mfactorial\u001b[0m\u001b[0;34m(\u001b[0m\u001b[0mi\u001b[0m\u001b[0;34m)\u001b[0m\u001b[0;34m)\u001b[0m\u001b[0;34m\u001b[0m\u001b[0;34m\u001b[0m\u001b[0m\n\u001b[0m\u001b[1;32m      3\u001b[0m \u001b[0;34m\u001b[0m\u001b[0m\n\u001b[1;32m      4\u001b[0m \u001b[0;32mtry\u001b[0m\u001b[0;34m:\u001b[0m\u001b[0;34m\u001b[0m\u001b[0;34m\u001b[0m\u001b[0m\n\u001b[1;32m      5\u001b[0m     \u001b[0mprint\u001b[0m\u001b[0;34m(\u001b[0m\u001b[0mfactorial\u001b[0m\u001b[0;34m(\u001b[0m\u001b[0;34m-\u001b[0m\u001b[0;36m1\u001b[0m\u001b[0;34m)\u001b[0m\u001b[0;34m)\u001b[0m\u001b[0;34m\u001b[0m\u001b[0;34m\u001b[0m\u001b[0m\n",
            "\u001b[0;31mTypeError\u001b[0m: factorial() takes 0 positional arguments but 1 was given"
          ]
        }
      ]
    },
    {
      "cell_type": "markdown",
      "source": [
        "Create any multithreaded code using for loop for creating multithreads\n",
        "for i in range(10):\n",
        "    th = Thread(target=func_name, args=(i, ))\n",
        "    "
      ],
      "metadata": {
        "id": "J_RrM9OOioAs"
      }
    },
    {
      "cell_type": "code",
      "source": [
        "import time\n",
        "import threading\n",
        "from threading import Thread\n"
      ],
      "metadata": {
        "id": "dhF9ZBQqij6c"
      },
      "execution_count": 21,
      "outputs": []
    },
    {
      "cell_type": "code",
      "source": [
        "def multithread(i):\n"
      ],
      "metadata": {
        "colab": {
          "base_uri": "https://localhost:8080/",
          "height": 130
        },
        "id": "qbMMeCg_jKZV",
        "outputId": "b665efb4-ce2b-4a54-946f-20108dbcf2e2"
      },
      "execution_count": 23,
      "outputs": [
        {
          "output_type": "error",
          "ename": "IndentationError",
          "evalue": "ignored",
          "traceback": [
            "\u001b[0;36m  File \u001b[0;32m\"<ipython-input-23-1af2a7ac1c20>\"\u001b[0;36m, line \u001b[0;32m3\u001b[0m\n\u001b[0;31m    time.sleep(5)\u001b[0m\n\u001b[0m    ^\u001b[0m\n\u001b[0;31mIndentationError\u001b[0m\u001b[0;31m:\u001b[0m unexpected indent\n"
          ]
        }
      ]
    },
    {
      "cell_type": "code",
      "source": [],
      "metadata": {
        "id": "UewBwQohsYT1"
      },
      "execution_count": null,
      "outputs": []
    }
  ]
}