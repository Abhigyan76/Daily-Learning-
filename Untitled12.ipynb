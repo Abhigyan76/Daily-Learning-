{
  "nbformat": 4,
  "nbformat_minor": 0,
  "metadata": {
    "colab": {
      "provenance": [],
      "authorship_tag": "ABX9TyPII3g/34oDoDD+p7m5SLgh",
      "include_colab_link": true
    },
    "kernelspec": {
      "name": "python3",
      "display_name": "Python 3"
    },
    "language_info": {
      "name": "python"
    }
  },
  "cells": [
    {
      "cell_type": "markdown",
      "metadata": {
        "id": "view-in-github",
        "colab_type": "text"
      },
      "source": [
        "<a href=\"https://colab.research.google.com/github/Abhigyan76/Movie-Recommendation-System/blob/main/Untitled12.ipynb\" target=\"_parent\"><img src=\"https://colab.research.google.com/assets/colab-badge.svg\" alt=\"Open In Colab\"/></a>"
      ]
    },
    {
      "cell_type": "code",
      "execution_count": 1,
      "metadata": {
        "id": "t8bOE-HLvZj5"
      },
      "outputs": [],
      "source": [
        "import pandas as pd\n",
        "import numpy as np"
      ]
    },
    {
      "cell_type": "markdown",
      "source": [
        "exercise 2"
      ],
      "metadata": {
        "id": "1LCVlLGfvh_c"
      }
    },
    {
      "cell_type": "markdown",
      "source": [
        "1. Create a variable called break and assign it a value 5. See what happens and find out the reason behind the behavior that you see\n",
        "\n"
      ],
      "metadata": {
        "id": "soZTCgwrvrAg"
      }
    },
    {
      "cell_type": "code",
      "source": [
        "break = 5 #it is a restricted word , we cant use it for assigning the variable"
      ],
      "metadata": {
        "colab": {
          "base_uri": "https://localhost:8080/",
          "height": 130
        },
        "id": "hVrT5UCavfJY",
        "outputId": "8727a23d-a5d4-4acf-8eb0-e62ff6da28ef"
      },
      "execution_count": 3,
      "outputs": [
        {
          "output_type": "error",
          "ename": "SyntaxError",
          "evalue": "ignored",
          "traceback": [
            "\u001b[0;36m  File \u001b[0;32m\"<ipython-input-3-8c52790838b0>\"\u001b[0;36m, line \u001b[0;32m1\u001b[0m\n\u001b[0;31m    break = 5 #it is a restricted word , we cant use it for assigning the variable\u001b[0m\n\u001b[0m          ^\u001b[0m\n\u001b[0;31mSyntaxError\u001b[0m\u001b[0;31m:\u001b[0m invalid syntax\n"
          ]
        }
      ]
    },
    {
      "cell_type": "markdown",
      "source": [
        "2. Create two variables. One to store your birth year and another one to store current year. Now calculate your age using these two variables"
      ],
      "metadata": {
        "id": "igUL3roswKda"
      }
    },
    {
      "cell_type": "code",
      "source": [
        "birth_year= 2002\n",
        "current_year = 2023"
      ],
      "metadata": {
        "id": "hg6nuPmav47-"
      },
      "execution_count": 4,
      "outputs": []
    },
    {
      "cell_type": "code",
      "source": [
        "my_age = current_year - birth_year\n",
        "print('This is my age = ', my_age)"
      ],
      "metadata": {
        "colab": {
          "base_uri": "https://localhost:8080/"
        },
        "id": "rME1_fPBwVux",
        "outputId": "8443deb3-9c5c-45dd-bea9-a982494a3143"
      },
      "execution_count": 10,
      "outputs": [
        {
          "output_type": "stream",
          "name": "stdout",
          "text": [
            "This is my age =  21\n"
          ]
        }
      ]
    },
    {
      "cell_type": "markdown",
      "source": [
        "3. Store your first, middle and last name in three different variables and then print your full name using these variables\n",
        "\n"
      ],
      "metadata": {
        "id": "8P3Mmw69w9bB"
      }
    },
    {
      "cell_type": "code",
      "source": [
        "first_name = 'Abhigyan'\n",
        "middle_name = 'Hb'\n",
        "last_name = 'Tiwari'"
      ],
      "metadata": {
        "id": "drGVt3F5wkX5"
      },
      "execution_count": 11,
      "outputs": []
    },
    {
      "cell_type": "code",
      "source": [
        "print('My name '+ first_name+' ' + middle_name +' '+ last_name)"
      ],
      "metadata": {
        "colab": {
          "base_uri": "https://localhost:8080/"
        },
        "id": "KPrgY0nqxRcf",
        "outputId": "9d307f9b-fd1f-4921-c5cd-3e47c17963cb"
      },
      "execution_count": 15,
      "outputs": [
        {
          "output_type": "stream",
          "name": "stdout",
          "text": [
            "My name Abhigyan Hb Tiwari\n"
          ]
        }
      ]
    },
    {
      "cell_type": "markdown",
      "source": [
        "4. Answer which of these are invalid variable names: \"_nation, 1record, record1, record_one, record-one, record^one, continue\""
      ],
      "metadata": {
        "id": "AqneL0H_xwmX"
      }
    },
    {
      "cell_type": "code",
      "source": [
        "1record, record-one, record^one, continue"
      ],
      "metadata": {
        "colab": {
          "base_uri": "https://localhost:8080/",
          "height": 130
        },
        "id": "Zm2xQo4Hxvh8",
        "outputId": "28c7218c-7fb6-4a37-ebd2-6e602fb61141"
      },
      "execution_count": 17,
      "outputs": [
        {
          "output_type": "error",
          "ename": "SyntaxError",
          "evalue": "ignored",
          "traceback": [
            "\u001b[0;36m  File \u001b[0;32m\"<ipython-input-17-a49d6daa8324>\"\u001b[0;36m, line \u001b[0;32m1\u001b[0m\n\u001b[0;31m    1record, record-one, record^one, continue\u001b[0m\n\u001b[0m    ^\u001b[0m\n\u001b[0;31mSyntaxError\u001b[0m\u001b[0;31m:\u001b[0m invalid decimal literal\n"
          ]
        }
      ]
    },
    {
      "cell_type": "markdown",
      "source": [
        "# Exercise 3"
      ],
      "metadata": {
        "id": "C-zHBIQ03djY"
      }
    },
    {
      "cell_type": "markdown",
      "source": [
        " 1. You have a football field that is 92 meter long and 48.8 meter wide. Find out total area using python and print it"
      ],
      "metadata": {
        "id": "FUd7-cPk3moB"
      }
    },
    {
      "cell_type": "code",
      "source": [
        "length = 92\n",
        "breadth = 48.4\n",
        "area = length * breadth\n",
        "print(area , \"m^2\")"
      ],
      "metadata": {
        "colab": {
          "base_uri": "https://localhost:8080/"
        },
        "id": "I-LgAVe-xesl",
        "outputId": "f416b670-2f7b-4117-f5b5-498d69da4fd2"
      },
      "execution_count": 21,
      "outputs": [
        {
          "output_type": "stream",
          "name": "stdout",
          "text": [
            "4452.8 m^2\n"
          ]
        }
      ]
    },
    {
      "cell_type": "markdown",
      "source": [
        "2. You bought 9 packets of potato chips from a store. Each packet costs 1.49 dollar  and you gave shopkeeper 20 dollar.   Find out using python, how many dollars is the shopkeeper going to give you back?"
      ],
      "metadata": {
        "id": "VarO7as-4JOm"
      }
    },
    {
      "cell_type": "code",
      "source": [
        "potato_chips_packet= 9\n",
        "packet_cost_each =  1.49\n",
        "money_i_give = 20"
      ],
      "metadata": {
        "id": "slHuHSn934Pw"
      },
      "execution_count": 24,
      "outputs": []
    },
    {
      "cell_type": "code",
      "source": [
        "total_chips_cost = potato_chips_packet * packet_cost_each\n",
        "total_chips_cost"
      ],
      "metadata": {
        "colab": {
          "base_uri": "https://localhost:8080/"
        },
        "id": "Sp3vvhZG4lDZ",
        "outputId": "f6607b80-0fe4-4f06-f5c4-0388ae3dd0a9"
      },
      "execution_count": 25,
      "outputs": [
        {
          "output_type": "execute_result",
          "data": {
            "text/plain": [
              "13.41"
            ]
          },
          "metadata": {},
          "execution_count": 25
        }
      ]
    },
    {
      "cell_type": "code",
      "source": [
        "money_given_back = money_i_give - total_chips_cost\n",
        "money_given_back"
      ],
      "metadata": {
        "colab": {
          "base_uri": "https://localhost:8080/"
        },
        "id": "jBuykary43p9",
        "outputId": "09df0964-c08c-45d1-f3ca-5d5cc9944ac9"
      },
      "execution_count": 26,
      "outputs": [
        {
          "output_type": "execute_result",
          "data": {
            "text/plain": [
              "6.59"
            ]
          },
          "metadata": {},
          "execution_count": 26
        }
      ]
    },
    {
      "cell_type": "markdown",
      "source": [
        "3. You want to replace tiles in your bathroom which is exactly square and 5.5 feet    is its length. If tiles cost 500 rs per square feet, how much will be the total    cost to replace all tiles. Calculate and print the cost using python    Hint: Use power operator (**) to find area of a square"
      ],
      "metadata": {
        "id": "cH_iSyzW5K3d"
      }
    },
    {
      "cell_type": "code",
      "source": [
        "length = 5.5\n",
        "square_length = length**2\n",
        "square_length"
      ],
      "metadata": {
        "colab": {
          "base_uri": "https://localhost:8080/"
        },
        "id": "b80mDWiw5F9o",
        "outputId": "275bdd3d-5c34-4851-ef1d-0e50a277af3c"
      },
      "execution_count": 28,
      "outputs": [
        {
          "output_type": "execute_result",
          "data": {
            "text/plain": [
              "30.25"
            ]
          },
          "metadata": {},
          "execution_count": 28
        }
      ]
    },
    {
      "cell_type": "code",
      "source": [
        "cost_per_ft = 500\n",
        "total_cost = square_length*cost_per_ft"
      ],
      "metadata": {
        "id": "FVswIV7X5vaf"
      },
      "execution_count": 29,
      "outputs": []
    },
    {
      "cell_type": "code",
      "source": [
        "total_cost"
      ],
      "metadata": {
        "colab": {
          "base_uri": "https://localhost:8080/"
        },
        "id": "jPPtZ07k6P8O",
        "outputId": "c1f11c67-8514-4528-bb47-e6636aec30c5"
      },
      "execution_count": 30,
      "outputs": [
        {
          "output_type": "execute_result",
          "data": {
            "text/plain": [
              "15125.0"
            ]
          },
          "metadata": {},
          "execution_count": 30
        }
      ]
    },
    {
      "cell_type": "markdown",
      "source": [
        "4. Print binary representation of number 17"
      ],
      "metadata": {
        "id": "eeVq7OCR6T_T"
      }
    },
    {
      "cell_type": "code",
      "source": [
        "a = 17\n",
        "print('decimal to binary:',format(a,'b'))"
      ],
      "metadata": {
        "colab": {
          "base_uri": "https://localhost:8080/"
        },
        "id": "Nrn3ZTQI6S7Y",
        "outputId": "2a56868d-bd8e-46cc-c105-637ffc9dad6f"
      },
      "execution_count": 32,
      "outputs": [
        {
          "output_type": "stream",
          "name": "stdout",
          "text": [
            "decimal to binary: 10001\n"
          ]
        }
      ]
    },
    {
      "cell_type": "markdown",
      "source": [
        "# exercise 4"
      ],
      "metadata": {
        "id": "a194u1AM7Bn4"
      }
    },
    {
      "cell_type": "markdown",
      "source": [
        "1. Create 3 variables to store street, city and country, now create address variable to store entire address. Use two ways of creating this variable, one using + operator and the other using f-string. Now Print the address in such a way that the street, city and country prints in a separate line\n"
      ],
      "metadata": {
        "id": "6LJEg7Ec7Kzm"
      }
    },
    {
      "cell_type": "code",
      "source": [
        "street = 'Panchsheel Enclave'\n",
        "city =  'Ghaziabad'\n",
        "country = 'India'"
      ],
      "metadata": {
        "id": "flbcyUma7AvA"
      },
      "execution_count": 41,
      "outputs": []
    },
    {
      "cell_type": "code",
      "source": [
        "Address = street+' ' + city + ' ' + country\n",
        "Address"
      ],
      "metadata": {
        "colab": {
          "base_uri": "https://localhost:8080/",
          "height": 36
        },
        "id": "UJNNH-dM6Rz5",
        "outputId": "ec57982f-a317-4308-c0c9-8b66bb827dda"
      },
      "execution_count": 42,
      "outputs": [
        {
          "output_type": "execute_result",
          "data": {
            "text/plain": [
              "'Panchsheel Enclave Ghaziabad India'"
            ],
            "application/vnd.google.colaboratory.intrinsic+json": {
              "type": "string"
            }
          },
          "metadata": {},
          "execution_count": 42
        }
      ]
    },
    {
      "cell_type": "code",
      "source": [],
      "metadata": {
        "id": "wcq-Tl-KCpdH"
      },
      "execution_count": null,
      "outputs": []
    },
    {
      "cell_type": "markdown",
      "source": [
        "2. Create a variable to store the string \"Earth revolves around the sun\"\n",
        "    1. Print \"revolves\" using slice operator\n",
        "    2. Print \"sun\" using negative index"
      ],
      "metadata": {
        "id": "IjdDD0V3DOGS"
      }
    },
    {
      "cell_type": "code",
      "source": [
        "a= 'Earth revolves around the sun'\n",
        "a[6:14]"
      ],
      "metadata": {
        "colab": {
          "base_uri": "https://localhost:8080/",
          "height": 36
        },
        "id": "a1HqDUFuDPr4",
        "outputId": "d051e0ea-da0c-4c87-a135-a2dddc1120c3"
      },
      "execution_count": 44,
      "outputs": [
        {
          "output_type": "execute_result",
          "data": {
            "text/plain": [
              "'revolves'"
            ],
            "application/vnd.google.colaboratory.intrinsic+json": {
              "type": "string"
            }
          },
          "metadata": {},
          "execution_count": 44
        }
      ]
    },
    {
      "cell_type": "code",
      "source": [
        "a[-3:]"
      ],
      "metadata": {
        "colab": {
          "base_uri": "https://localhost:8080/",
          "height": 36
        },
        "id": "3B8CBuyqESRf",
        "outputId": "75714804-f2ad-427b-b670-545c9a90671a"
      },
      "execution_count": 45,
      "outputs": [
        {
          "output_type": "execute_result",
          "data": {
            "text/plain": [
              "'sun'"
            ],
            "application/vnd.google.colaboratory.intrinsic+json": {
              "type": "string"
            }
          },
          "metadata": {},
          "execution_count": 45
        }
      ]
    },
    {
      "cell_type": "markdown",
      "source": [
        "3. Create two variables to store how many fruits and vegetables you eat in a day.Now Print \"I eat x veggies and y fruits daily\" where x and y presents vegetables and fruits that you eat everyday. Use python f string for this."
      ],
      "metadata": {
        "id": "IN7deNWoGKsu"
      }
    },
    {
      "cell_type": "code",
      "source": [
        "fruits = int(input(\"Enter a number\"))\n",
        "vegetables =  int(input(\"Enter a number\"))\n"
      ],
      "metadata": {
        "colab": {
          "base_uri": "https://localhost:8080/"
        },
        "id": "ocZf6PG4GEOO",
        "outputId": "45ad4379-e863-45ae-e532-a6dfdf487d6e"
      },
      "execution_count": 3,
      "outputs": [
        {
          "name": "stdout",
          "output_type": "stream",
          "text": [
            "Enter a number12\n",
            "Enter a number23\n"
          ]
        }
      ]
    },
    {
      "cell_type": "code",
      "source": [
        "print(f\"I eat {vegetables} veggies and {fruits} daily\")"
      ],
      "metadata": {
        "colab": {
          "base_uri": "https://localhost:8080/"
        },
        "id": "Etq8sz9NnkOE",
        "outputId": "1d06da7a-9c4e-4e34-8a43-5043b2c14733"
      },
      "execution_count": 5,
      "outputs": [
        {
          "output_type": "stream",
          "name": "stdout",
          "text": [
            "I eat 23 veggies and 12 daily\n"
          ]
        }
      ]
    },
    {
      "cell_type": "markdown",
      "source": [
        " 4. I have a string variable called s='maine 200 banana khaye'. This of course is a wrong statement, the correct statement is 'maine 10 samosa khaye'. Replace incorrect words in original strong with new ones and print the new string. Also try to do this in one line."
      ],
      "metadata": {
        "id": "vre4TdsDoHnf"
      }
    },
    {
      "cell_type": "code",
      "source": [
        "s = 'maine 200 banana khaye'"
      ],
      "metadata": {
        "id": "iqVv2x7Mn8qV"
      },
      "execution_count": 6,
      "outputs": []
    },
    {
      "cell_type": "code",
      "source": [
        "s='maine 10 samosa khaye'"
      ],
      "metadata": {
        "id": "Pt83j9XOoSfO"
      },
      "execution_count": 7,
      "outputs": []
    },
    {
      "cell_type": "code",
      "source": [
        "s"
      ],
      "metadata": {
        "colab": {
          "base_uri": "https://localhost:8080/",
          "height": 36
        },
        "id": "iyb5D1iLoYU4",
        "outputId": "9f639518-23cd-459e-a503-1f4086a062d3"
      },
      "execution_count": 8,
      "outputs": [
        {
          "output_type": "execute_result",
          "data": {
            "text/plain": [
              "'maine 10 samosa khaye'"
            ],
            "application/vnd.google.colaboratory.intrinsic+json": {
              "type": "string"
            }
          },
          "metadata": {},
          "execution_count": 8
        }
      ]
    },
    {
      "cell_type": "markdown",
      "source": [
        "# exercise 5"
      ],
      "metadata": {
        "id": "C2UPAYw-okCw"
      }
    },
    {
      "cell_type": "markdown",
      "source": [
        "1. Let us say your expense for every month are listed below,\n",
        " \t1. January -  2200\n",
        "  \t2. February - 2350\n",
        "     3. March - 2600\n",
        "   4. April - 2130\n",
        "     5. May - 2190\n",
        "\n",
        " Create a list to store these monthly expenses and using that find out"
      ],
      "metadata": {
        "id": "xX1nbOPioosy"
      }
    },
    {
      "cell_type": "code",
      "source": [
        "expense = [2200,2350,2130,2190]"
      ],
      "metadata": {
        "id": "so9aX6edoZEJ"
      },
      "execution_count": 10,
      "outputs": []
    },
    {
      "cell_type": "markdown",
      "source": [
        " 1. In Feb, how many dollars you spent extra compare to January?\n",
        " 2. Find out your total expense in first quarter (first three months) of the year.\n",
        " 3. Find out if you spent exactly 2000 dollars in any month\n",
        " 4. June month just finished and your expense is 1980 dollar. Add this item to our monthly expense list\n",
        " 5. You returned an item that you bought in a month of April and\n",
        " got a refund of 200$. Make a correction to your monthly expense list\n",
        " based on this\n"
      ],
      "metadata": {
        "id": "ELaOaFQypEWC"
      }
    },
    {
      "cell_type": "code",
      "source": [
        "#1\n",
        "print('dollar spent in feb',expense[1]-expense[0])"
      ],
      "metadata": {
        "colab": {
          "base_uri": "https://localhost:8080/"
        },
        "id": "eGTNptMNo3Cs",
        "outputId": "fe5ebec1-21ae-4b70-c5b5-fc5c737864ba"
      },
      "execution_count": 11,
      "outputs": [
        {
          "output_type": "stream",
          "name": "stdout",
          "text": [
            "dollar spent in feb 150\n"
          ]
        }
      ]
    },
    {
      "cell_type": "code",
      "source": [
        "#2\n",
        "print(' total expense in first quarter',expense[0]+expense[1] + expense[2])"
      ],
      "metadata": {
        "colab": {
          "base_uri": "https://localhost:8080/"
        },
        "id": "bzqkBFZNpg9g",
        "outputId": "8468ebdf-63aa-4326-b1ef-990d25d79f35"
      },
      "execution_count": 12,
      "outputs": [
        {
          "output_type": "stream",
          "name": "stdout",
          "text": [
            " total expense in first quarter 6680\n"
          ]
        }
      ]
    },
    {
      "cell_type": "code",
      "source": [
        "#3\n",
        "print('if you spent exactly 2000 dollars in any month:',2000 in expense)"
      ],
      "metadata": {
        "colab": {
          "base_uri": "https://localhost:8080/"
        },
        "id": "Jm009LMzp0qz",
        "outputId": "87fcebac-9775-415c-d639-4687f98f7bf0"
      },
      "execution_count": 13,
      "outputs": [
        {
          "output_type": "stream",
          "name": "stdout",
          "text": [
            "if you spent exactly 2000 dollars in any month: False\n"
          ]
        }
      ]
    },
    {
      "cell_type": "code",
      "source": [
        "expense.append(1980)#4\n",
        "print(expense)"
      ],
      "metadata": {
        "colab": {
          "base_uri": "https://localhost:8080/"
        },
        "id": "ywhm54kEqHYG",
        "outputId": "e7a513ad-e764-4dcd-dbe6-392e91175b49"
      },
      "execution_count": 15,
      "outputs": [
        {
          "output_type": "stream",
          "name": "stdout",
          "text": [
            "[2200, 2350, 2130, 2190, 1980, 1980]\n"
          ]
        }
      ]
    },
    {
      "cell_type": "code",
      "source": [
        "#5\n",
        "expense.replace(2190,200)"
      ],
      "metadata": {
        "colab": {
          "base_uri": "https://localhost:8080/",
          "height": 182
        },
        "id": "JZOFFcdrqfVG",
        "outputId": "46414118-127f-47c5-aee0-394a49a2ed7e"
      },
      "execution_count": 16,
      "outputs": [
        {
          "output_type": "error",
          "ename": "AttributeError",
          "evalue": "ignored",
          "traceback": [
            "\u001b[0;31m---------------------------------------------------------------------------\u001b[0m",
            "\u001b[0;31mAttributeError\u001b[0m                            Traceback (most recent call last)",
            "\u001b[0;32m<ipython-input-16-1c194fb4a895>\u001b[0m in \u001b[0;36m<cell line: 2>\u001b[0;34m()\u001b[0m\n\u001b[1;32m      1\u001b[0m \u001b[0;31m#5\u001b[0m\u001b[0;34m\u001b[0m\u001b[0;34m\u001b[0m\u001b[0m\n\u001b[0;32m----> 2\u001b[0;31m \u001b[0mexpense\u001b[0m\u001b[0;34m.\u001b[0m\u001b[0mreplace\u001b[0m\u001b[0;34m(\u001b[0m\u001b[0;36m2190\u001b[0m\u001b[0;34m,\u001b[0m\u001b[0;36m200\u001b[0m\u001b[0;34m)\u001b[0m\u001b[0;34m\u001b[0m\u001b[0;34m\u001b[0m\u001b[0m\n\u001b[0m",
            "\u001b[0;31mAttributeError\u001b[0m: 'list' object has no attribute 'replace'"
          ]
        }
      ]
    },
    {
      "cell_type": "markdown",
      "source": [
        "2. You have a list of your favourite marvel super heros\n",
        " heros=['spider man','thor','hulk','iron man','captain america']\n",
        " Using this list"
      ],
      "metadata": {
        "id": "ocxaix8trBlo"
      }
    },
    {
      "cell_type": "code",
      "source": [
        "heros=['spider man','thor','hulk','iron man','captain america']"
      ],
      "metadata": {
        "id": "glvzxoU0q2Do"
      },
      "execution_count": 17,
      "outputs": []
    },
    {
      "cell_type": "code",
      "source": [
        "# Length of the list\n",
        "len(heros)"
      ],
      "metadata": {
        "colab": {
          "base_uri": "https://localhost:8080/"
        },
        "id": "EO0x-lgYrJNk",
        "outputId": "db86df46-ee81-46ae-dae3-977465a071db"
      },
      "execution_count": 18,
      "outputs": [
        {
          "output_type": "execute_result",
          "data": {
            "text/plain": [
              "5"
            ]
          },
          "metadata": {},
          "execution_count": 18
        }
      ]
    },
    {
      "cell_type": "code",
      "source": [
        "# Add 'black panther' at the end of this list\n",
        "heros.append('black panther')\n",
        "heros"
      ],
      "metadata": {
        "colab": {
          "base_uri": "https://localhost:8080/"
        },
        "id": "JyilI6DZrYYB",
        "outputId": "7b34d4ce-04d7-4111-b909-a08e12194289"
      },
      "execution_count": 21,
      "outputs": [
        {
          "output_type": "execute_result",
          "data": {
            "text/plain": [
              "['spider man',\n",
              " 'thor',\n",
              " 'hulk',\n",
              " 'iron man',\n",
              " 'captain america',\n",
              " 'black panther',\n",
              " 'black panther']"
            ]
          },
          "metadata": {},
          "execution_count": 21
        }
      ]
    },
    {
      "cell_type": "code",
      "source": [
        "# You realize that you need to add 'black panther' after 'hulk', so remove it from the list first and then add it after 'hulk'\n",
        "heros.remove('black panther')\n",
        "heros"
      ],
      "metadata": {
        "colab": {
          "base_uri": "https://localhost:8080/"
        },
        "id": "F9GS1GsUrkMN",
        "outputId": "7c403745-aa31-4ac4-e414-7cf71d070060"
      },
      "execution_count": 23,
      "outputs": [
        {
          "output_type": "execute_result",
          "data": {
            "text/plain": [
              "['spider man', 'thor', 'hulk', 'iron man', 'captain america']"
            ]
          },
          "metadata": {},
          "execution_count": 23
        }
      ]
    },
    {
      "cell_type": "code",
      "source": [
        "heros.insert(3,'black panther')#concatenate doesnt use in list"
      ],
      "metadata": {
        "id": "AoPpOIvMr2t_"
      },
      "execution_count": 26,
      "outputs": []
    },
    {
      "cell_type": "code",
      "source": [
        "heros"
      ],
      "metadata": {
        "colab": {
          "base_uri": "https://localhost:8080/"
        },
        "id": "sL_uLZvOsIyq",
        "outputId": "1e7243d4-3c54-45d7-e13d-db229160e3d8"
      },
      "execution_count": 27,
      "outputs": [
        {
          "output_type": "execute_result",
          "data": {
            "text/plain": [
              "['spider man',\n",
              " 'thor',\n",
              " 'hulk',\n",
              " 'black panther',\n",
              " 'black panther',\n",
              " 'iron man',\n",
              " 'captain america']"
            ]
          },
          "metadata": {},
          "execution_count": 27
        }
      ]
    },
    {
      "cell_type": "code",
      "source": [
        "# Now you don't like thor and hulk because they get angry easily :)    So you want to remove thor and hulk from list and replace them with doctor strange (because he is cool).\n",
        "#    Do that with one line of code.\n",
        "heros[1:3] = ['Doctor strange']\n",
        "heros"
      ],
      "metadata": {
        "colab": {
          "base_uri": "https://localhost:8080/"
        },
        "id": "Rww1ERMSsRSk",
        "outputId": "ca844a02-9619-4518-cd73-5873f29a0020"
      },
      "execution_count": 31,
      "outputs": [
        {
          "output_type": "execute_result",
          "data": {
            "text/plain": [
              "['spider man',\n",
              " 'Doctor strange',\n",
              " 'black panther',\n",
              " 'black panther',\n",
              " 'iron man',\n",
              " 'captain america']"
            ]
          },
          "metadata": {},
          "execution_count": 31
        }
      ]
    },
    {
      "cell_type": "code",
      "source": [],
      "metadata": {
        "id": "O7cgoyBgs4py"
      },
      "execution_count": 30,
      "outputs": []
    }
  ]
}