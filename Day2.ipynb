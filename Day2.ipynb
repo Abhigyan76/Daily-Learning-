{
  "nbformat": 4,
  "nbformat_minor": 0,
  "metadata": {
    "colab": {
      "provenance": [],
      "toc_visible": true,
      "authorship_tag": "ABX9TyPOZo0THCfi1XarUx8EmAbw",
      "include_colab_link": true
    },
    "kernelspec": {
      "name": "python3",
      "display_name": "Python 3"
    },
    "language_info": {
      "name": "python"
    }
  },
  "cells": [
    {
      "cell_type": "markdown",
      "metadata": {
        "id": "view-in-github",
        "colab_type": "text"
      },
      "source": [
        "<a href=\"https://colab.research.google.com/github/Abhigyan76/Movie-Recommendation-System/blob/main/Day2.ipynb\" target=\"_parent\"><img src=\"https://colab.research.google.com/assets/colab-badge.svg\" alt=\"Open In Colab\"/></a>"
      ]
    },
    {
      "cell_type": "code",
      "execution_count": 1,
      "metadata": {
        "id": "sixDLj8Gs4Tm"
      },
      "outputs": [],
      "source": [
        "import pandas as pd"
      ]
    },
    {
      "cell_type": "markdown",
      "source": [
        " iterate over rows in Pandas Dataframe"
      ],
      "metadata": {
        "id": "wVTHQFmYvJ3C"
      }
    },
    {
      "cell_type": "code",
      "source": [
        "data=[{'name':'Sujeet', 'age':10},\n",
        "            {'name':'Sameer', 'age':11},\n",
        "            {'name':'Sumit', 'age':12}]\n",
        " "
      ],
      "metadata": {
        "id": "bUzt8azrvKzI"
      },
      "execution_count": 3,
      "outputs": []
    },
    {
      "cell_type": "code",
      "source": [
        "df=pd.DataFrame(data)"
      ],
      "metadata": {
        "id": "uqeAXprLxiAZ"
      },
      "execution_count": 6,
      "outputs": []
    },
    {
      "cell_type": "code",
      "source": [
        "print('Original DataFrame: ' ,df)"
      ],
      "metadata": {
        "colab": {
          "base_uri": "https://localhost:8080/"
        },
        "id": "nl0WYo9jyaM9",
        "outputId": "3aa635ee-b3a5-4928-a904-31f93ba358f9"
      },
      "execution_count": 8,
      "outputs": [
        {
          "output_type": "stream",
          "name": "stdout",
          "text": [
            "Original DataFrame:       name  age\n",
            "0  Sujeet   10\n",
            "1  Sameer   11\n",
            "2   Sumit   12\n"
          ]
        }
      ]
    },
    {
      "cell_type": "code",
      "source": [
        "print('\\nRows iterate using iterrows(): ')\n",
        "for index,row in df.iterrows():\n",
        "  print(row['name'],row['age'])"
      ],
      "metadata": {
        "colab": {
          "base_uri": "https://localhost:8080/"
        },
        "id": "dXQVrv1Iy6-g",
        "outputId": "e44423c8-ad83-4571-ed92-326fb2a474b5"
      },
      "execution_count": 10,
      "outputs": [
        {
          "output_type": "stream",
          "name": "stdout",
          "text": [
            "\n",
            "Rows iterate using iterrows(): \n",
            "Sujeet 10\n",
            "Sameer 11\n",
            "Sumit 12\n"
          ]
        }
      ]
    },
    {
      "cell_type": "markdown",
      "source": [
        "Selecting rows in pandas DataFrame based on conditions"
      ],
      "metadata": {
        "id": "2-I2WuX90EQT"
      }
    },
    {
      "cell_type": "markdown",
      "source": [
        "Q) Selecting all the rows from the given dataframe in which ‘Percentage’ is greater than 80 using basic method."
      ],
      "metadata": {
        "id": "pzAjkFYz2Q6y"
      }
    },
    {
      "cell_type": "code",
      "source": [
        "data={'Name': ['Ankit', 'Amit', 'Aishwarya', 'Priyanka', 'Priya', 'Shaurya' ],\n",
        " 'Age': [21, 19, 20, 18, 17, 21],\n",
        " 'Stream': ['Math', 'Commerce', 'Science', 'Math', 'Math', 'Science'],\n",
        " 'Percentage': [88, 92, 95, 70, 65, 78] }"
      ],
      "metadata": {
        "id": "zr34qiEyzuRF"
      },
      "execution_count": 11,
      "outputs": []
    },
    {
      "cell_type": "code",
      "source": [
        "df=pd.DataFrame(data)"
      ],
      "metadata": {
        "id": "W0_RWNHI2kUr"
      },
      "execution_count": 12,
      "outputs": []
    },
    {
      "cell_type": "code",
      "source": [
        "print(\"Given dataFrame:\\n \",df)"
      ],
      "metadata": {
        "colab": {
          "base_uri": "https://localhost:8080/"
        },
        "id": "475n8RMF4kZC",
        "outputId": "e3febb06-7b83-446b-9fa6-1b49eca0b85c"
      },
      "execution_count": 13,
      "outputs": [
        {
          "output_type": "stream",
          "name": "stdout",
          "text": [
            "Given dataFrame:\n",
            "          Name  Age    Stream  Percentage\n",
            "0      Ankit   21      Math          88\n",
            "1       Amit   19  Commerce          92\n",
            "2  Aishwarya   20   Science          95\n",
            "3   Priyanka   18      Math          70\n",
            "4      Priya   17      Math          65\n",
            "5    Shaurya   21   Science          78\n"
          ]
        }
      ]
    },
    {
      "cell_type": "code",
      "source": [
        "rslt_df = df[df['Percentage']>80]\n",
        "print(rslt_df)"
      ],
      "metadata": {
        "colab": {
          "base_uri": "https://localhost:8080/"
        },
        "id": "N9pd4ZbC488Y",
        "outputId": "56dc81cc-3a8f-42c0-edbe-e203351ee863"
      },
      "execution_count": 16,
      "outputs": [
        {
          "output_type": "stream",
          "name": "stdout",
          "text": [
            "        Name  Age    Stream  Percentage\n",
            "0      Ankit   21      Math          88\n",
            "1       Amit   19  Commerce          92\n",
            "2  Aishwarya   20   Science          95\n"
          ]
        }
      ]
    },
    {
      "cell_type": "markdown",
      "source": [
        "Select any row from a Dataframe using iloc[] and iat[] in Pandas"
      ],
      "metadata": {
        "id": "BM4FmEZU5WCk"
      }
    },
    {
      "cell_type": "code",
      "source": [
        "df = pd.DataFrame({'Date':['10/2/2011', '11/2/2011', '12/2/2011', '13/2/11'],\n",
        "                    'Event':['Music', 'Poetry', 'Theatre', 'Comedy'],\n",
        "                    'Cost':[10000, 5000, 15000, 2000]})\n",
        " "
      ],
      "metadata": {
        "id": "c2WtgoNo5Kw2"
      },
      "execution_count": 17,
      "outputs": []
    },
    {
      "cell_type": "code",
      "source": [
        "#creating row\n",
        "Row_list=[]\n",
        "\n",
        "for i in range((df.shape[0])): #iterate each row\n",
        "  Row_list.append(list(df.iloc[i, :]))\n",
        "print(Row_list[:3])  \n",
        "\n"
      ],
      "metadata": {
        "colab": {
          "base_uri": "https://localhost:8080/"
        },
        "id": "1SIwCbvb6wjp",
        "outputId": "17f08ac1-25f1-4591-dd60-22980b79a66e"
      },
      "execution_count": 18,
      "outputs": [
        {
          "output_type": "stream",
          "name": "stdout",
          "text": [
            "[['10/2/2011', 'Music', 10000], ['11/2/2011', 'Poetry', 5000], ['12/2/2011', 'Theatre', 15000]]\n"
          ]
        }
      ]
    },
    {
      "cell_type": "markdown",
      "source": [
        "Using iat[] method "
      ],
      "metadata": {
        "id": "x6aB-eLd8G5-"
      }
    },
    {
      "cell_type": "code",
      "source": [
        "df = pd.DataFrame({'Date':['10/2/2011', '11/2/2011', '12/2/2011', '13/2/11'],\n",
        "                    'Event':['Music', 'Poetry', 'Theatre', 'Comedy'],\n",
        "                    'Cost':[10000, 5000, 15000, 2000]})"
      ],
      "metadata": {
        "id": "6YrEqTjA7jLC"
      },
      "execution_count": 19,
      "outputs": []
    },
    {
      "cell_type": "code",
      "source": [
        "Row_list=[]\n",
        "\n",
        "for i in range((df.shape[0])):\n",
        "  cur_row=[] # Create a list to store the data   # of the current row\n",
        "  for j in range(df.shape[1]):\n",
        "    cur_row.append(df.iat[i, j])\n",
        "  Row_list.append(cur_row)\n",
        "print(cur_row)\n",
        "print(Row_list[:3])   \n",
        "\n"
      ],
      "metadata": {
        "colab": {
          "base_uri": "https://localhost:8080/"
        },
        "id": "4kpONr228QhW",
        "outputId": "c4d035c4-dc29-4dbb-b5d4-3eaa271fb5de"
      },
      "execution_count": 21,
      "outputs": [
        {
          "output_type": "stream",
          "name": "stdout",
          "text": [
            "['13/2/11', 'Comedy', 2000]\n",
            "[['10/2/2011', 'Music', 10000], ['11/2/2011', 'Poetry', 5000], ['12/2/2011', 'Theatre', 15000]]\n"
          ]
        }
      ]
    },
    {
      "cell_type": "markdown",
      "source": [
        "Limited rows selection with given column in Pandas"
      ],
      "metadata": {
        "id": "0KkJPnpfFHln"
      }
    },
    {
      "cell_type": "markdown",
      "source": [
        "Select two columns"
      ],
      "metadata": {
        "id": "k1R_wvn5FN-Q"
      }
    },
    {
      "cell_type": "code",
      "source": [
        "data = {'Name':['Jai', 'Princi', 'Gaurav', 'Anuj'], \n",
        "        'Age':[27, 24, 22, 32], \n",
        "        'Address':['Delhi', 'Kanpur', 'Allahabad', 'Kannauj'], \n",
        "        'Qualification':['Msc', 'MA', 'MCA', 'Phd']} "
      ],
      "metadata": {
        "id": "MXEbXaWlE1Li"
      },
      "execution_count": 22,
      "outputs": []
    },
    {
      "cell_type": "code",
      "source": [
        "df=pd.DataFrame(data)"
      ],
      "metadata": {
        "id": "UwRdVmgsFT3i"
      },
      "execution_count": 23,
      "outputs": []
    },
    {
      "cell_type": "code",
      "source": [
        "print(df.loc[1:3,['Name', 'Qualification']])"
      ],
      "metadata": {
        "colab": {
          "base_uri": "https://localhost:8080/"
        },
        "id": "b-FfBawaFopS",
        "outputId": "71ca4820-5c7a-4c58-9fc9-7b7d75a727dd"
      },
      "execution_count": 26,
      "outputs": [
        {
          "output_type": "stream",
          "name": "stdout",
          "text": [
            "     Name Qualification\n",
            "1  Princi            MA\n",
            "2  Gaurav           MCA\n",
            "3    Anuj           Phd\n"
          ]
        }
      ]
    },
    {
      "cell_type": "markdown",
      "source": [
        " First filtering rows and selecting columns by label format and then Select all columns."
      ],
      "metadata": {
        "id": "s8Gpl54CGIbl"
      }
    },
    {
      "cell_type": "code",
      "source": [
        "data = {'Name':['Jai', 'Princi', 'Gaurav', 'Anuj'], \n",
        "        'Age':[27, 24, 22, 32], \n",
        "        'Address':['Delhi', 'Kanpur', 'Allahabad', 'Kannauj'], \n",
        "        'Qualification':['Msc', 'MA', 'MCA', 'Phd'] \n",
        "       } "
      ],
      "metadata": {
        "id": "D-KyBkqEFvOF"
      },
      "execution_count": 27,
      "outputs": []
    },
    {
      "cell_type": "code",
      "source": [
        "df=pd.DataFrame(data)\n",
        "# .loc DataFrame method \n",
        "# filtering rows and selecting columns by label format \n",
        "# df.loc[rows, columns] \n",
        "# row 1, all columns \n",
        "print(df.loc[0, :] )"
      ],
      "metadata": {
        "colab": {
          "base_uri": "https://localhost:8080/"
        },
        "id": "cHhmEAQ5GPva",
        "outputId": "2759ffaa-c67b-4166-bc4f-39ffba85341d"
      },
      "execution_count": 28,
      "outputs": [
        {
          "output_type": "stream",
          "name": "stdout",
          "text": [
            "Name               Jai\n",
            "Age                 27\n",
            "Address          Delhi\n",
            "Qualification      Msc\n",
            "Name: 0, dtype: object\n"
          ]
        }
      ]
    },
    {
      "cell_type": "markdown",
      "source": [
        " Select all or some columns, one to another using .iloc."
      ],
      "metadata": {
        "id": "WbKU2XOFIglc"
      }
    },
    {
      "cell_type": "code",
      "source": [
        "data = {'Name':['Jai', 'Princi', 'Gaurav', 'Anuj'], \n",
        "        'Age':[27, 24, 22, 32], \n",
        "        'Address':['Delhi', 'Kanpur', 'Allahabad', 'Kannauj'], \n",
        "        'Qualification':['Msc', 'MA', 'MCA', 'Phd']} "
      ],
      "metadata": {
        "id": "d6Kl9-NsIcQN"
      },
      "execution_count": 29,
      "outputs": []
    },
    {
      "cell_type": "code",
      "source": [
        "df = pd.DataFrame(data)\n",
        "print(df.iloc[1:3,:2])  "
      ],
      "metadata": {
        "colab": {
          "base_uri": "https://localhost:8080/"
        },
        "id": "YsqEHD7BImEQ",
        "outputId": "e345bc28-a887-4b2e-f11e-0c56e7876f1f"
      },
      "execution_count": 31,
      "outputs": [
        {
          "output_type": "stream",
          "name": "stdout",
          "text": [
            "     Name  Age\n",
            "1  Princi   24\n",
            "2  Gaurav   22\n"
          ]
        }
      ]
    },
    {
      "cell_type": "markdown",
      "source": [
        "Create a list from rows in Pandas dataframe"
      ],
      "metadata": {
        "id": "GN38va6pI-5N"
      }
    },
    {
      "cell_type": "code",
      "source": [
        "\n"
      ],
      "metadata": {
        "id": "NJA7BANzLFcO"
      },
      "execution_count": 34,
      "outputs": []
    },
    {
      "cell_type": "code",
      "source": [
        "df = pd.DataFrame({'Date':['10/2/2011', '11/2/2011', '12/2/2011', '13/2/11'],\n",
        "                    'Event':['Music', 'Poetry', 'Theatre', 'Comedy'],\n",
        "                    'Cost':[10000, 5000, 15000, 2000]})\n"
      ],
      "metadata": {
        "id": "8NkufwVbI26x"
      },
      "execution_count": 35,
      "outputs": []
    },
    {
      "cell_type": "code",
      "source": [
        "print(df)"
      ],
      "metadata": {
        "colab": {
          "base_uri": "https://localhost:8080/"
        },
        "id": "Ul4eyEkMJNVc",
        "outputId": "ae9402b1-1177-47ac-dec1-dd943f9db2ee"
      },
      "execution_count": 36,
      "outputs": [
        {
          "output_type": "stream",
          "name": "stdout",
          "text": [
            "        Date    Event   Cost\n",
            "0  10/2/2011    Music  10000\n",
            "1  11/2/2011   Poetry   5000\n",
            "2  12/2/2011  Theatre  15000\n",
            "3    13/2/11   Comedy   2000\n"
          ]
        }
      ]
    },
    {
      "cell_type": "markdown",
      "source": [
        "Now we will use the DataFrame.iterrows() function to iterate over each of the row of the given Dataframe and construct a list out of the data of each row."
      ],
      "metadata": {
        "id": "X6B3cXcTRZI8"
      }
    },
    {
      "cell_type": "code",
      "source": [
        "Row_list =[]\n",
        "for index, rows in df.iterrows():\n",
        "    my_list =[rows.Date, rows.Event, rows.Cost]\n",
        "    Row_list.append(my_list)\n",
        "\n",
        "print(Row_list)"
      ],
      "metadata": {
        "colab": {
          "base_uri": "https://localhost:8080/"
        },
        "id": "cnq1ybO_RTY7",
        "outputId": "dfa038c9-e812-49b1-c87a-2cd5182c9181"
      },
      "execution_count": 37,
      "outputs": [
        {
          "output_type": "stream",
          "name": "stdout",
          "text": [
            "[['10/2/2011', 'Music', 10000], ['11/2/2011', 'Poetry', 5000], ['12/2/2011', 'Theatre', 15000], ['13/2/11', 'Comedy', 2000]]\n"
          ]
        }
      ]
    },
    {
      "cell_type": "markdown",
      "source": [
        " iterate over the rows of the Pandas dataframe we can use DataFrame.itertuples() function "
      ],
      "metadata": {
        "id": "WL4LiFx3Rr5s"
      }
    },
    {
      "cell_type": "code",
      "source": [
        "df = pd.DataFrame({'Date':['10/2/2011', '11/2/2011', '12/2/2011', '13/2/11'],\n",
        "                    'Event':['Music', 'Poetry', 'Theatre', 'Comedy']})\n",
        "\n",
        "print(df)"
      ],
      "metadata": {
        "colab": {
          "base_uri": "https://localhost:8080/"
        },
        "id": "t8ySXbiwRgkW",
        "outputId": "819c44f1-ec33-447f-c092-3d866fa648cb"
      },
      "execution_count": 40,
      "outputs": [
        {
          "output_type": "stream",
          "name": "stdout",
          "text": [
            "        Date    Event\n",
            "0  10/2/2011    Music\n",
            "1  11/2/2011   Poetry\n",
            "2  12/2/2011  Theatre\n",
            "3    13/2/11   Comedy\n"
          ]
        }
      ]
    },
    {
      "cell_type": "code",
      "source": [
        "Row_list =[]\n",
        "for rows in df.itertuples():\n",
        "    my_list =[rows.Date, rows.Event]\n",
        "    Row_list.append(my_list)\n",
        "\n",
        "print(Row_list)"
      ],
      "metadata": {
        "colab": {
          "base_uri": "https://localhost:8080/"
        },
        "id": "-juGeoweRvS0",
        "outputId": "71b0f5c1-1a82-4b15-c2b3-f29fd63ff9fe"
      },
      "execution_count": 43,
      "outputs": [
        {
          "output_type": "stream",
          "name": "stdout",
          "text": [
            "[['10/2/2011', 'Music'], ['11/2/2011', 'Poetry'], ['12/2/2011', 'Theatre'], ['13/2/11', 'Comedy']]\n"
          ]
        }
      ]
    },
    {
      "cell_type": "code",
      "source": [],
      "metadata": {
        "id": "BW1zp_r3R4yo"
      },
      "execution_count": null,
      "outputs": []
    }
  ]
}