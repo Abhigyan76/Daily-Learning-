{
  "nbformat": 4,
  "nbformat_minor": 0,
  "metadata": {
    "colab": {
      "provenance": [],
      "authorship_tag": "ABX9TyMclZ9yGnxNp3C7iRauBcIq",
      "include_colab_link": true
    },
    "kernelspec": {
      "name": "python3",
      "display_name": "Python 3"
    },
    "language_info": {
      "name": "python"
    }
  },
  "cells": [
    {
      "cell_type": "markdown",
      "metadata": {
        "id": "view-in-github",
        "colab_type": "text"
      },
      "source": [
        "<a href=\"https://colab.research.google.com/github/Abhigyan76/Movie-Recommendation-System/blob/main/Day7.ipynb\" target=\"_parent\"><img src=\"https://colab.research.google.com/assets/colab-badge.svg\" alt=\"Open In Colab\"/></a>"
      ]
    },
    {
      "cell_type": "code",
      "execution_count": 1,
      "metadata": {
        "id": "D8PJVj8c9ULB"
      },
      "outputs": [],
      "source": [
        "import pandas as pd"
      ]
    },
    {
      "cell_type": "markdown",
      "source": [
        "Creating DataFrame from dict of narray/lists"
      ],
      "metadata": {
        "id": "IWKYUNgdBR2P"
      }
    },
    {
      "cell_type": "code",
      "source": [
        "data = {'Category':['Array', 'Stack', 'Queue'],\n",
        "        'Student_1':[20, 21, 19], 'Student_2':[15, 20, 14]}"
      ],
      "metadata": {
        "id": "USod4GqDBPwh"
      },
      "execution_count": 3,
      "outputs": []
    },
    {
      "cell_type": "code",
      "source": [
        "df = pd.DataFrame(data)"
      ],
      "metadata": {
        "id": "6F4-UMK0BfbE"
      },
      "execution_count": 4,
      "outputs": []
    },
    {
      "cell_type": "code",
      "source": [
        "print(df.transpose())"
      ],
      "metadata": {
        "colab": {
          "base_uri": "https://localhost:8080/"
        },
        "id": "IY4F75xEBism",
        "outputId": "43768480-6cf7-4b6f-c070-4e189edae00d"
      },
      "execution_count": 5,
      "outputs": [
        {
          "output_type": "stream",
          "name": "stdout",
          "text": [
            "               0      1      2\n",
            "Category   Array  Stack  Queue\n",
            "Student_1     20     21     19\n",
            "Student_2     15     20     14\n"
          ]
        }
      ]
    },
    {
      "cell_type": "markdown",
      "source": [
        " Providing index list to dataframe "
      ],
      "metadata": {
        "id": "-ygBwZYrBqL2"
      }
    },
    {
      "cell_type": "code",
      "source": [
        "data = {'Area':['Array', 'Stack', 'Queue'],\n",
        "        'Student_1':[20, 21, 19], 'Student_2':[15, 20, 14]}"
      ],
      "metadata": {
        "id": "VLtI7-2bBlWR"
      },
      "execution_count": 6,
      "outputs": []
    },
    {
      "cell_type": "code",
      "source": [
        "df = pd.DataFrame(data, index =['Cat_1', 'Cat_2', 'Cat_3'])\n",
        "df"
      ],
      "metadata": {
        "colab": {
          "base_uri": "https://localhost:8080/",
          "height": 143
        },
        "id": "90eLaRIcBtBD",
        "outputId": "39b9a225-3730-464a-ddfa-6cd27cbcd17f"
      },
      "execution_count": 7,
      "outputs": [
        {
          "output_type": "execute_result",
          "data": {
            "text/plain": [
              "        Area  Student_1  Student_2\n",
              "Cat_1  Array         20         15\n",
              "Cat_2  Stack         21         20\n",
              "Cat_3  Queue         19         14"
            ],
            "text/html": [
              "\n",
              "  <div id=\"df-85efa2b4-d635-4b2d-ba43-7cd1aeb19602\">\n",
              "    <div class=\"colab-df-container\">\n",
              "      <div>\n",
              "<style scoped>\n",
              "    .dataframe tbody tr th:only-of-type {\n",
              "        vertical-align: middle;\n",
              "    }\n",
              "\n",
              "    .dataframe tbody tr th {\n",
              "        vertical-align: top;\n",
              "    }\n",
              "\n",
              "    .dataframe thead th {\n",
              "        text-align: right;\n",
              "    }\n",
              "</style>\n",
              "<table border=\"1\" class=\"dataframe\">\n",
              "  <thead>\n",
              "    <tr style=\"text-align: right;\">\n",
              "      <th></th>\n",
              "      <th>Area</th>\n",
              "      <th>Student_1</th>\n",
              "      <th>Student_2</th>\n",
              "    </tr>\n",
              "  </thead>\n",
              "  <tbody>\n",
              "    <tr>\n",
              "      <th>Cat_1</th>\n",
              "      <td>Array</td>\n",
              "      <td>20</td>\n",
              "      <td>15</td>\n",
              "    </tr>\n",
              "    <tr>\n",
              "      <th>Cat_2</th>\n",
              "      <td>Stack</td>\n",
              "      <td>21</td>\n",
              "      <td>20</td>\n",
              "    </tr>\n",
              "    <tr>\n",
              "      <th>Cat_3</th>\n",
              "      <td>Queue</td>\n",
              "      <td>19</td>\n",
              "      <td>14</td>\n",
              "    </tr>\n",
              "  </tbody>\n",
              "</table>\n",
              "</div>\n",
              "      <button class=\"colab-df-convert\" onclick=\"convertToInteractive('df-85efa2b4-d635-4b2d-ba43-7cd1aeb19602')\"\n",
              "              title=\"Convert this dataframe to an interactive table.\"\n",
              "              style=\"display:none;\">\n",
              "        \n",
              "  <svg xmlns=\"http://www.w3.org/2000/svg\" height=\"24px\"viewBox=\"0 0 24 24\"\n",
              "       width=\"24px\">\n",
              "    <path d=\"M0 0h24v24H0V0z\" fill=\"none\"/>\n",
              "    <path d=\"M18.56 5.44l.94 2.06.94-2.06 2.06-.94-2.06-.94-.94-2.06-.94 2.06-2.06.94zm-11 1L8.5 8.5l.94-2.06 2.06-.94-2.06-.94L8.5 2.5l-.94 2.06-2.06.94zm10 10l.94 2.06.94-2.06 2.06-.94-2.06-.94-.94-2.06-.94 2.06-2.06.94z\"/><path d=\"M17.41 7.96l-1.37-1.37c-.4-.4-.92-.59-1.43-.59-.52 0-1.04.2-1.43.59L10.3 9.45l-7.72 7.72c-.78.78-.78 2.05 0 2.83L4 21.41c.39.39.9.59 1.41.59.51 0 1.02-.2 1.41-.59l7.78-7.78 2.81-2.81c.8-.78.8-2.07 0-2.86zM5.41 20L4 18.59l7.72-7.72 1.47 1.35L5.41 20z\"/>\n",
              "  </svg>\n",
              "      </button>\n",
              "      \n",
              "  <style>\n",
              "    .colab-df-container {\n",
              "      display:flex;\n",
              "      flex-wrap:wrap;\n",
              "      gap: 12px;\n",
              "    }\n",
              "\n",
              "    .colab-df-convert {\n",
              "      background-color: #E8F0FE;\n",
              "      border: none;\n",
              "      border-radius: 50%;\n",
              "      cursor: pointer;\n",
              "      display: none;\n",
              "      fill: #1967D2;\n",
              "      height: 32px;\n",
              "      padding: 0 0 0 0;\n",
              "      width: 32px;\n",
              "    }\n",
              "\n",
              "    .colab-df-convert:hover {\n",
              "      background-color: #E2EBFA;\n",
              "      box-shadow: 0px 1px 2px rgba(60, 64, 67, 0.3), 0px 1px 3px 1px rgba(60, 64, 67, 0.15);\n",
              "      fill: #174EA6;\n",
              "    }\n",
              "\n",
              "    [theme=dark] .colab-df-convert {\n",
              "      background-color: #3B4455;\n",
              "      fill: #D2E3FC;\n",
              "    }\n",
              "\n",
              "    [theme=dark] .colab-df-convert:hover {\n",
              "      background-color: #434B5C;\n",
              "      box-shadow: 0px 1px 3px 1px rgba(0, 0, 0, 0.15);\n",
              "      filter: drop-shadow(0px 1px 2px rgba(0, 0, 0, 0.3));\n",
              "      fill: #FFFFFF;\n",
              "    }\n",
              "  </style>\n",
              "\n",
              "      <script>\n",
              "        const buttonEl =\n",
              "          document.querySelector('#df-85efa2b4-d635-4b2d-ba43-7cd1aeb19602 button.colab-df-convert');\n",
              "        buttonEl.style.display =\n",
              "          google.colab.kernel.accessAllowed ? 'block' : 'none';\n",
              "\n",
              "        async function convertToInteractive(key) {\n",
              "          const element = document.querySelector('#df-85efa2b4-d635-4b2d-ba43-7cd1aeb19602');\n",
              "          const dataTable =\n",
              "            await google.colab.kernel.invokeFunction('convertToInteractive',\n",
              "                                                     [key], {});\n",
              "          if (!dataTable) return;\n",
              "\n",
              "          const docLinkHtml = 'Like what you see? Visit the ' +\n",
              "            '<a target=\"_blank\" href=https://colab.research.google.com/notebooks/data_table.ipynb>data table notebook</a>'\n",
              "            + ' to learn more about interactive tables.';\n",
              "          element.innerHTML = '';\n",
              "          dataTable['output_type'] = 'display_data';\n",
              "          await google.colab.output.renderOutput(dataTable, element);\n",
              "          const docLink = document.createElement('div');\n",
              "          docLink.innerHTML = docLinkHtml;\n",
              "          element.appendChild(docLink);\n",
              "        }\n",
              "      </script>\n",
              "    </div>\n",
              "  </div>\n",
              "  "
            ]
          },
          "metadata": {},
          "execution_count": 7
        }
      ]
    },
    {
      "cell_type": "markdown",
      "source": [
        "Python program to swap two elements in a list"
      ],
      "metadata": {
        "id": "tvzkA4OBCCln"
      }
    },
    {
      "cell_type": "code",
      "source": [
        "def swapPositions(list, pos1, pos2):\n",
        "     \n",
        "    list[pos1], list[pos2] = list[pos2], list[pos1]\n",
        "    return list"
      ],
      "metadata": {
        "id": "5v4kL1QcBwnO"
      },
      "execution_count": 8,
      "outputs": []
    },
    {
      "cell_type": "code",
      "source": [
        "List = [23, 65, 19, 90]\n",
        "pos1, pos2  = 1, 3"
      ],
      "metadata": {
        "id": "mTj4WJ6ZCGxQ"
      },
      "execution_count": 9,
      "outputs": []
    },
    {
      "cell_type": "code",
      "source": [
        "print(swapPositions(List, pos1-1, pos2-1))"
      ],
      "metadata": {
        "colab": {
          "base_uri": "https://localhost:8080/"
        },
        "id": "kWCJK1EKCJb4",
        "outputId": "866f494c-45c0-4cb7-fe20-1c6f378849a3"
      },
      "execution_count": 10,
      "outputs": [
        {
          "output_type": "stream",
          "name": "stdout",
          "text": [
            "[19, 65, 23, 90]\n"
          ]
        }
      ]
    },
    {
      "cell_type": "markdown",
      "source": [
        "Using Inbuilt list.pop() function "
      ],
      "metadata": {
        "id": "2eUhKxYzCOkw"
      }
    },
    {
      "cell_type": "code",
      "source": [
        "def swapPositions(list, pos1, pos2):\n",
        "    first_ele = list.pop(pos1)  \n",
        "    second_ele = list.pop(pos2-1)\n",
        "    list.insert(pos1, second_ele) \n",
        "    list.insert(pos2, first_ele) \n",
        "     \n",
        "    return list"
      ],
      "metadata": {
        "id": "M3W028rnCLlO"
      },
      "execution_count": 11,
      "outputs": []
    },
    {
      "cell_type": "code",
      "source": [
        "List = [23, 65, 19, 90]\n",
        "pos1, pos2  = 1, 3"
      ],
      "metadata": {
        "id": "hHEewiHRCWhW"
      },
      "execution_count": 12,
      "outputs": []
    },
    {
      "cell_type": "code",
      "source": [
        "print(swapPositions(List, pos1-1, pos2-1))"
      ],
      "metadata": {
        "colab": {
          "base_uri": "https://localhost:8080/"
        },
        "id": "MB-sQ_lGCZMR",
        "outputId": "e5fdf48a-9abc-4058-b58b-9a4aad66f33c"
      },
      "execution_count": 13,
      "outputs": [
        {
          "output_type": "stream",
          "name": "stdout",
          "text": [
            "[19, 65, 23, 90]\n"
          ]
        }
      ]
    },
    {
      "cell_type": "markdown",
      "source": [
        "Using tuple variable"
      ],
      "metadata": {
        "id": "X2_JE4deCep-"
      }
    },
    {
      "cell_type": "code",
      "source": [
        "def swapPositions(list, pos1, pos2):\n",
        "    get = list[pos1], list[pos2]\n",
        "    list[pos2], list[pos1] = get\n",
        "      \n",
        "    return list"
      ],
      "metadata": {
        "id": "sLhRc3tYCb1Z"
      },
      "execution_count": 14,
      "outputs": []
    },
    {
      "cell_type": "code",
      "source": [
        "List = [23, 65, 19, 90]"
      ],
      "metadata": {
        "id": "9ZoqPMAWCkst"
      },
      "execution_count": 15,
      "outputs": []
    },
    {
      "cell_type": "code",
      "source": [
        "pos1, pos2  = 1, 3\n",
        "print(swapPositions(List, pos1-1, pos2-1))"
      ],
      "metadata": {
        "colab": {
          "base_uri": "https://localhost:8080/"
        },
        "id": "BdIOw0LsCnZu",
        "outputId": "ba5e14a2-06dc-464b-cb8d-0f3a2c4f04d2"
      },
      "execution_count": 16,
      "outputs": [
        {
          "output_type": "stream",
          "name": "stdout",
          "text": [
            "[19, 65, 23, 90]\n"
          ]
        }
      ]
    },
    {
      "cell_type": "markdown",
      "source": [
        "Using temp variable"
      ],
      "metadata": {
        "id": "Jx4XaG7ECvZp"
      }
    },
    {
      "cell_type": "code",
      "source": [
        "def swapPositions(lis, pos1, pos2):\n",
        "    temp=lis[pos1]\n",
        "    lis[pos1]=lis[pos2]\n",
        "    lis[pos2]=temp\n",
        "    return lis"
      ],
      "metadata": {
        "id": "f3uEHQG6Cr4-"
      },
      "execution_count": 23,
      "outputs": []
    },
    {
      "cell_type": "code",
      "source": [
        "List = [23, 65, 19, 90]\n",
        "pos1, pos2 = 1, 3"
      ],
      "metadata": {
        "id": "kPWY3tP5C0e2"
      },
      "execution_count": 24,
      "outputs": []
    },
    {
      "cell_type": "code",
      "source": [
        "print(swapPositions(List, pos1-1, pos2-1))"
      ],
      "metadata": {
        "colab": {
          "base_uri": "https://localhost:8080/"
        },
        "id": "iWklhTRGC3nL",
        "outputId": "639caf56-9920-4948-8170-917bebe188d5"
      },
      "execution_count": 25,
      "outputs": [
        {
          "output_type": "stream",
          "name": "stdout",
          "text": [
            "[19, 65, 23, 90]\n"
          ]
        }
      ]
    },
    {
      "cell_type": "markdown",
      "source": [
        "Using enumerate"
      ],
      "metadata": {
        "id": "G38dGIwlDB5P"
      }
    },
    {
      "cell_type": "code",
      "source": [
        "def swapPositions(lis, pos1, pos2):\n",
        "    for i, x in enumerate(lis):\n",
        "        if i == pos1:\n",
        "            elem1 = x\n",
        "        if i == pos2:\n",
        "            elem2 = x\n",
        "    lis[pos1] = elem2\n",
        "    lis[pos2] = elem1\n",
        "    return lis"
      ],
      "metadata": {
        "id": "vapephiXC566"
      },
      "execution_count": 26,
      "outputs": []
    },
    {
      "cell_type": "code",
      "source": [
        "List = [23, 65, 19, 90]\n",
        "pos1, pos2 = 1, 3"
      ],
      "metadata": {
        "id": "KuQPHw5MDFOZ"
      },
      "execution_count": 27,
      "outputs": []
    },
    {
      "cell_type": "code",
      "source": [
        "print(swapPositions(List, pos1-1, pos2-1))"
      ],
      "metadata": {
        "colab": {
          "base_uri": "https://localhost:8080/"
        },
        "id": "GOQEsI8aDKEw",
        "outputId": "39d72718-faa1-4e5d-f122-c386e5f5defc"
      },
      "execution_count": 28,
      "outputs": [
        {
          "output_type": "stream",
          "name": "stdout",
          "text": [
            "[19, 65, 23, 90]\n"
          ]
        }
      ]
    },
    {
      "cell_type": "markdown",
      "source": [
        "Python program to Swap Keys and Values in Dictionary"
      ],
      "metadata": {
        "id": "osyYvKiJDRCR"
      }
    },
    {
      "cell_type": "code",
      "source": [
        "old_dict = {'A': 67, 'B': 23, 'C': 45, 'D': 56, 'E': 12, 'F': 69, 'G': 67, 'H': 23}\n",
        "new_dict = dict([(value, key) for key, value in old_dict.items()])\n",
        "   "
      ],
      "metadata": {
        "id": "_ATkCfOADLuD"
      },
      "execution_count": 30,
      "outputs": []
    },
    {
      "cell_type": "code",
      "source": [
        "print (\"Original dictionary is : \")\n",
        "print(old_dict)\n",
        " \n",
        "print()"
      ],
      "metadata": {
        "colab": {
          "base_uri": "https://localhost:8080/"
        },
        "id": "1uiODbXGDY3b",
        "outputId": "710abcf8-65c9-4559-b99b-256083e87ed6"
      },
      "execution_count": 31,
      "outputs": [
        {
          "output_type": "stream",
          "name": "stdout",
          "text": [
            "Original dictionary is : \n",
            "{'A': 67, 'B': 23, 'C': 45, 'D': 56, 'E': 12, 'F': 69, 'G': 67, 'H': 23}\n",
            "\n"
          ]
        }
      ]
    },
    {
      "cell_type": "code",
      "source": [
        "print (\"Dictionary after swapping is :  \")\n",
        "print(\"keys: values\")"
      ],
      "metadata": {
        "colab": {
          "base_uri": "https://localhost:8080/"
        },
        "id": "7woQyU8cDfil",
        "outputId": "e96ddc9a-ca78-4f5c-81e7-6b9d6fef784f"
      },
      "execution_count": 32,
      "outputs": [
        {
          "output_type": "stream",
          "name": "stdout",
          "text": [
            "Dictionary after swapping is :  \n",
            "keys: values\n"
          ]
        }
      ]
    },
    {
      "cell_type": "code",
      "source": [
        "for i in new_dict:\n",
        "    print(i, \" :  \", new_dict[i])"
      ],
      "metadata": {
        "colab": {
          "base_uri": "https://localhost:8080/"
        },
        "id": "o1JMApzMDjVo",
        "outputId": "9d157013-f0eb-4ca0-9869-3474e64a04bb"
      },
      "execution_count": 33,
      "outputs": [
        {
          "output_type": "stream",
          "name": "stdout",
          "text": [
            "67  :   G\n",
            "23  :   H\n",
            "45  :   C\n",
            "56  :   D\n",
            "12  :   E\n",
            "69  :   F\n"
          ]
        }
      ]
    },
    {
      "cell_type": "markdown",
      "source": [
        "Q2)Handles multiple same values"
      ],
      "metadata": {
        "id": "dDCxQawDDqSB"
      }
    },
    {
      "cell_type": "code",
      "source": [
        "old_dict = {'A': 67, 'B': 23, 'C': 45, 'E': 12, 'F': 69, 'G': 67, 'H': 23}"
      ],
      "metadata": {
        "id": "QbXamEK7DlwM"
      },
      "execution_count": 34,
      "outputs": []
    },
    {
      "cell_type": "code",
      "source": [
        "print (\"Original dictionary is : \")\n",
        "print(old_dict)\n",
        " \n",
        "print()"
      ],
      "metadata": {
        "colab": {
          "base_uri": "https://localhost:8080/"
        },
        "id": "F6-TdzctDu9g",
        "outputId": "818e551e-0c16-4855-9ce3-060e22cc5c8c"
      },
      "execution_count": 38,
      "outputs": [
        {
          "output_type": "stream",
          "name": "stdout",
          "text": [
            "Original dictionary is : \n",
            "{'A': 67, 'B': 23, 'C': 45, 'E': 12, 'F': 69, 'G': 67, 'H': 23}\n",
            "\n"
          ]
        }
      ]
    },
    {
      "cell_type": "code",
      "source": [
        "new_dict = {}\n",
        "for key, value in old_dict.items():\n",
        "   if value in new_dict:\n",
        "       new_dict[value].append(key)\n",
        "   else:\n",
        "       new_dict[value]=[key]"
      ],
      "metadata": {
        "id": "Zu6KppurDy7b"
      },
      "execution_count": 39,
      "outputs": []
    },
    {
      "cell_type": "code",
      "source": [
        "print (\"Dictionary after swapping is :  \")\n",
        "print(\"keys: values\")"
      ],
      "metadata": {
        "colab": {
          "base_uri": "https://localhost:8080/"
        },
        "id": "mVJ5DJ9WD1on",
        "outputId": "5a793764-e415-41d8-ce0c-7a4de6f5a21d"
      },
      "execution_count": 40,
      "outputs": [
        {
          "output_type": "stream",
          "name": "stdout",
          "text": [
            "Dictionary after swapping is :  \n",
            "keys: values\n"
          ]
        }
      ]
    },
    {
      "cell_type": "code",
      "source": [
        "for i in new_dict:\n",
        "    print(i, \" :\", new_dict[i])"
      ],
      "metadata": {
        "colab": {
          "base_uri": "https://localhost:8080/"
        },
        "id": "VTnhLnjpD4Zk",
        "outputId": "4f129797-a57c-47ab-dfa9-f8df3eebdf73"
      },
      "execution_count": 42,
      "outputs": [
        {
          "output_type": "stream",
          "name": "stdout",
          "text": [
            "67  : ['A', 'G']\n",
            "23  : ['B', 'H']\n",
            "45  : ['C']\n",
            "12  : ['E']\n",
            "69  : ['F']\n"
          ]
        }
      ]
    },
    {
      "cell_type": "markdown",
      "source": [
        "Using List Comprehension and Set"
      ],
      "metadata": {
        "id": "FxiML0K-EDs4"
      }
    },
    {
      "cell_type": "code",
      "source": [
        "dict1 = {\"a\": 1, \"b\": 2, \"c\": 3, \"d\": 2}\n",
        "dict2 = {}"
      ],
      "metadata": {
        "id": "BenkprlOD9P7"
      },
      "execution_count": 43,
      "outputs": []
    },
    {
      "cell_type": "code",
      "source": [
        "dict2 = dict([(v, [k for k, v1 in dict1.items() if v1 == v])\n",
        "              for v in set(dict1.values())])"
      ],
      "metadata": {
        "id": "8Vv2YVOPEG25"
      },
      "execution_count": 44,
      "outputs": []
    },
    {
      "cell_type": "code",
      "source": [
        "print(dict2)"
      ],
      "metadata": {
        "colab": {
          "base_uri": "https://localhost:8080/"
        },
        "id": "O23GqguPEKAj",
        "outputId": "4519ffa3-660d-4406-c0ef-58a1c0c85a97"
      },
      "execution_count": 45,
      "outputs": [
        {
          "output_type": "stream",
          "name": "stdout",
          "text": [
            "{1: ['a'], 2: ['b', 'd'], 3: ['c']}\n"
          ]
        }
      ]
    },
    {
      "cell_type": "markdown",
      "source": [
        "Using get() Method"
      ],
      "metadata": {
        "id": "szOuVkDNEPJ6"
      }
    },
    {
      "cell_type": "code",
      "source": [
        "dict1 = {\"a\": 1, \"b\": 2, \"c\": 3, \"d\": 2}\n",
        "dict2 = {}"
      ],
      "metadata": {
        "id": "YCKMUPexEMJH"
      },
      "execution_count": 46,
      "outputs": []
    },
    {
      "cell_type": "code",
      "source": [
        "for k, v in dict1.items():\n",
        "    dict2[v] = dict2.get(v, []) + [k]"
      ],
      "metadata": {
        "id": "2NCBcQMGESMR"
      },
      "execution_count": 47,
      "outputs": []
    },
    {
      "cell_type": "code",
      "source": [
        "print(dict2)"
      ],
      "metadata": {
        "colab": {
          "base_uri": "https://localhost:8080/"
        },
        "id": "I5fL6YISEVUl",
        "outputId": "a4b320ce-1868-4521-a1e7-b65760b1e990"
      },
      "execution_count": 48,
      "outputs": [
        {
          "output_type": "stream",
          "name": "stdout",
          "text": [
            "{1: ['a'], 2: ['b', 'd'], 3: ['c']}\n"
          ]
        }
      ]
    },
    {
      "cell_type": "markdown",
      "source": [
        "Using Dictionary SetDefault() Method"
      ],
      "metadata": {
        "id": "b1Mbnu0qEbm9"
      }
    },
    {
      "cell_type": "code",
      "source": [
        "dict1 = {\"a\": 1, \"b\": 2, \"c\": 3, \"d\": 2}\n",
        "dict2 = {}"
      ],
      "metadata": {
        "id": "lCBUdD8UEXhb"
      },
      "execution_count": 49,
      "outputs": []
    },
    {
      "cell_type": "code",
      "source": [
        "for i in dict1:\n",
        "    dict2.setdefault(dict1[i], []).append(i)"
      ],
      "metadata": {
        "id": "t5Ybz5UFEeYI"
      },
      "execution_count": 50,
      "outputs": []
    },
    {
      "cell_type": "code",
      "source": [
        "print(dict2)"
      ],
      "metadata": {
        "colab": {
          "base_uri": "https://localhost:8080/"
        },
        "id": "qIoss40XEgi4",
        "outputId": "4ca15f93-40a5-48dc-f65e-941a716d6c9b"
      },
      "execution_count": 51,
      "outputs": [
        {
          "output_type": "stream",
          "name": "stdout",
          "text": [
            "{1: ['a'], 2: ['b', 'd'], 3: ['c']}\n"
          ]
        }
      ]
    },
    {
      "cell_type": "code",
      "source": [],
      "metadata": {
        "id": "2SNVbUl0EiVM"
      },
      "execution_count": null,
      "outputs": []
    }
  ]
}