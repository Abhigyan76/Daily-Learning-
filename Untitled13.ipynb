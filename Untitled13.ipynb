{
  "nbformat": 4,
  "nbformat_minor": 0,
  "metadata": {
    "colab": {
      "provenance": [],
      "authorship_tag": "ABX9TyPi/G4J5nM2Myj+Xoj4M4MS",
      "include_colab_link": true
    },
    "kernelspec": {
      "name": "python3",
      "display_name": "Python 3"
    },
    "language_info": {
      "name": "python"
    }
  },
  "cells": [
    {
      "cell_type": "markdown",
      "metadata": {
        "id": "view-in-github",
        "colab_type": "text"
      },
      "source": [
        "<a href=\"https://colab.research.google.com/github/Abhigyan76/Movie-Recommendation-System/blob/main/Untitled13.ipynb\" target=\"_parent\"><img src=\"https://colab.research.google.com/assets/colab-badge.svg\" alt=\"Open In Colab\"/></a>"
      ]
    },
    {
      "cell_type": "markdown",
      "source": [
        "# exercise 8"
      ],
      "metadata": {
        "id": "oFVsusjKTePz"
      }
    },
    {
      "cell_type": "markdown",
      "source": [
        "1.Using following list of cities per country,\n",
        "india = [\"mumbai\", \"banglore\", \"chennai\", \"delhi\"]\n",
        "pakistan = [\"lahore\",\"karachi\",\"islamabad\"]\n",
        "bangladesh = [\"dhaka\", \"khulna\", \"rangpur\"]\n",
        "Write a program that asks user to enter a city name and it should tell which country the city belongs to\n",
        "Write a program that asks user to enter two cities and it tells you if they both are in same country or not. For example if I enter mumbai and chennai, it will print \"Both cities are in India\" but if I enter mumbai and dhaka it should print \"They don't belong to same country\""
      ],
      "metadata": {
        "id": "LG5VuHuXonIH"
      }
    },
    {
      "cell_type": "code",
      "source": [
        "india = [\"mumbai\", \"banglore\", \"chennai\", \"delhi\"]\n",
        "pakistan = [\"lahore\",\"karachi\",\"islamabad\"]\n",
        "bangladesh = [\"dhaka\", \"khulna\", \"rangpur\"]"
      ],
      "metadata": {
        "id": "xzM7pYIUTgil"
      },
      "execution_count": null,
      "outputs": []
    },
    {
      "cell_type": "code",
      "source": [
        "city = input('enter your city name')"
      ],
      "metadata": {
        "colab": {
          "base_uri": "https://localhost:8080/"
        },
        "id": "vBF6vFMzxil5",
        "outputId": "08304bad-ecb8-4936-f97f-98af776765bb"
      },
      "execution_count": null,
      "outputs": [
        {
          "name": "stdout",
          "output_type": "stream",
          "text": [
            "enter your city namedelhi\n"
          ]
        }
      ]
    },
    {
      "cell_type": "code",
      "source": [
        "if city in india:\n",
        "  print(f\"{city} in india\")\n",
        "elif city in pakistan:\n",
        "  print(f\"{city} in pakistan\")\n",
        "else:\n",
        "  print(f\"{city} in bangladesh\")"
      ],
      "metadata": {
        "colab": {
          "base_uri": "https://localhost:8080/"
        },
        "id": "hmx3jdUNxsWS",
        "outputId": "869ef8ac-9e45-477e-b4e6-f1da9af343c9"
      },
      "execution_count": null,
      "outputs": [
        {
          "output_type": "stream",
          "name": "stdout",
          "text": [
            "delhi in india\n"
          ]
        }
      ]
    },
    {
      "cell_type": "code",
      "source": [
        "city1 = input(\"Enter city 1: \")\n",
        "city2 = input(\"Enter city 2: \")"
      ],
      "metadata": {
        "colab": {
          "base_uri": "https://localhost:8080/"
        },
        "id": "hTxZIpFF5zO9",
        "outputId": "e6609dee-e90d-4796-f729-c9d27b5d8d5d"
      },
      "execution_count": null,
      "outputs": [
        {
          "name": "stdout",
          "output_type": "stream",
          "text": [
            "Enter city 1: delhi\n",
            "Enter city 2: bangalore\n"
          ]
        }
      ]
    },
    {
      "cell_type": "code",
      "source": [
        "if city1 in india and city2 in india:\n",
        "  print(\"Both cities are in India\")\n",
        "elif city1 in pakistan and city2 in pakistan:\n",
        "  print(\"Both cities are in pakistan\")\n",
        "elif city1 in bangladesh and city2 in bangladesh:\n",
        "  print(\"Both cities are in bangladesh\")\n",
        "else :\n",
        "  print(\"They don't belong to same country\")"
      ],
      "metadata": {
        "colab": {
          "base_uri": "https://localhost:8080/"
        },
        "id": "-W6naTEn6Up1",
        "outputId": "1580e97b-121c-4b5a-eb22-303d79ff8c07"
      },
      "execution_count": null,
      "outputs": [
        {
          "output_type": "stream",
          "name": "stdout",
          "text": [
            "They don't belong to same country\n"
          ]
        }
      ]
    },
    {
      "cell_type": "markdown",
      "source": [
        "Write a python program that can tell you if your sugar is normal or not. Normal fasting level sugar range is 80 to 100.\n",
        "Ask user to enter his fasting sugar level\n",
        "If it is below 80 to 100 range then print that sugar is low\n",
        "If it is above 100 then print that it is high otherwise print that it is normal"
      ],
      "metadata": {
        "id": "y7T5GyDp5GkL"
      }
    },
    {
      "cell_type": "code",
      "source": [
        "sugar_level = int(input(\"Enter your sugar level\"))"
      ],
      "metadata": {
        "colab": {
          "base_uri": "https://localhost:8080/"
        },
        "id": "nnRPrd4H4j49",
        "outputId": "015baca9-453e-494b-80ae-33c46e8350da"
      },
      "execution_count": null,
      "outputs": [
        {
          "name": "stdout",
          "output_type": "stream",
          "text": [
            "Enter your sugar level66\n"
          ]
        }
      ]
    },
    {
      "cell_type": "markdown",
      "source": [],
      "metadata": {
        "id": "UNO1xGcn7fhM"
      }
    },
    {
      "cell_type": "code",
      "source": [],
      "metadata": {
        "id": "cuU0c78C5nNx"
      },
      "execution_count": null,
      "outputs": []
    },
    {
      "cell_type": "code",
      "source": [
        "if sugar_level<80:\n",
        "  print(\"sugar level is low\")\n",
        "elif sugar_level>100:\n",
        "  print(\"sugar level is high\")\n",
        "else :\n",
        "  print(\" sugar level is normal\")"
      ],
      "metadata": {
        "id": "7j7-QcEc5R-5",
        "colab": {
          "base_uri": "https://localhost:8080/"
        },
        "outputId": "2f748e30-5d76-4257-cfc0-d12ec6661932"
      },
      "execution_count": 17,
      "outputs": [
        {
          "output_type": "stream",
          "name": "stdout",
          "text": [
            "sugar level is low\n"
          ]
        }
      ]
    },
    {
      "cell_type": "markdown",
      "source": [
        "# exercise 9"
      ],
      "metadata": {
        "id": "TNEUO1G_A9kG"
      }
    },
    {
      "cell_type": "markdown",
      "source": [
        "After flipping a coin 10 times you got this result,\n",
        "result = [\"heads\",\"tails\",\"tails\",\"heads\",\"tails\",\"heads\",\"heads\",\"tails\",\"tails\",\"tails\"]\n",
        "Using for loop figure out how many times you got heads"
      ],
      "metadata": {
        "id": "zVJrBm-aBMbw"
      }
    },
    {
      "cell_type": "code",
      "source": [
        "result = [\"heads\",\"tails\",\"tails\",\"heads\",\"tails\",\"heads\",\"heads\",\"tails\",\"tails\",\"tails\"]"
      ],
      "metadata": {
        "id": "gUkEYRabA3Qt"
      },
      "execution_count": 18,
      "outputs": []
    },
    {
      "cell_type": "code",
      "source": [
        "for i in result:\n",
        ""
      ],
      "metadata": {
        "id": "ormw8PbtBh0b"
      },
      "execution_count": null,
      "outputs": []
    },
    {
      "cell_type": "code",
      "source": [
        "# 2. Print square of all numbers between 1 to 10 except even numbers\n",
        "for i in range(1,11):\n",
        "  if i % 2 != 0:\n",
        "  print(i,\"these are odd numbers\")\n",
        ""
      ],
      "metadata": {
        "colab": {
          "base_uri": "https://localhost:8080/",
          "height": 130
        },
        "id": "deuLzO88CWHF",
        "outputId": "178b74e2-b6e2-4647-ace2-5320539d53ba"
      },
      "execution_count": 23,
      "outputs": [
        {
          "output_type": "error",
          "ename": "IndentationError",
          "evalue": "ignored",
          "traceback": [
            "\u001b[0;36m  File \u001b[0;32m\"<ipython-input-23-cb6f677de813>\"\u001b[0;36m, line \u001b[0;32m4\u001b[0m\n\u001b[0;31m    print(i,\"these are odd numbers\")\u001b[0m\n\u001b[0m    ^\u001b[0m\n\u001b[0;31mIndentationError\u001b[0m\u001b[0;31m:\u001b[0m expected an indented block after 'if' statement on line 3\n"
          ]
        }
      ]
    },
    {
      "cell_type": "markdown",
      "source": [
        "3. Your monthly expense list (from Jan to May) looks like this,\n",
        " ```\n",
        " expense_list = [2340, 2500, 2100, 3100, 2980]\n",
        " ```"
      ],
      "metadata": {
        "id": "SOjgGhAODb6T"
      }
    },
    {
      "cell_type": "markdown",
      "source": [
        "Write a program that asks you to enter an expense amount and program\n",
        " should tell you in which month that expense occurred. If expense is not\n",
        " found then it should print that as well."
      ],
      "metadata": {
        "id": "MMHL7zUZDiA6"
      }
    },
    {
      "cell_type": "code",
      "source": [
        "expense_list = [2340, 2500, 2100, 3100, 2980]"
      ],
      "metadata": {
        "id": "RnhlrA0jDDAS"
      },
      "execution_count": 24,
      "outputs": []
    },
    {
      "cell_type": "code",
      "source": [
        "a =int(input(\"enter your expense amount: \"))"
      ],
      "metadata": {
        "colab": {
          "base_uri": "https://localhost:8080/"
        },
        "id": "ljXAj0KMDnKa",
        "outputId": "9008698b-33fd-400c-cae4-b1779cd6ad62"
      },
      "execution_count": 29,
      "outputs": [
        {
          "name": "stdout",
          "output_type": "stream",
          "text": [
            "enter your expense amount: 2500\n"
          ]
        }
      ]
    },
    {
      "cell_type": "code",
      "source": [
        "if a in expense_list == 2340:\n",
        "  print(\"jan expense is 2340\")\n",
        "elif a in expense_list == 2500:\n",
        "  print(\"feb expense in 2500\")\n",
        "elif a in expense_list == 2100:\n",
        "  print(\"march expense is 2100\")\n",
        "elif a in expense_list == 3100:\n",
        "  print(\"april expense is 3100\")\n",
        "elif a in expense_list == 2980:\n",
        "  print(\"may expense is 2980\")\n",
        "else:\n",
        "  print(\" expense is not found\")"
      ],
      "metadata": {
        "colab": {
          "base_uri": "https://localhost:8080/"
        },
        "id": "ybTZzoqTEkIK",
        "outputId": "6708ee08-c89f-489b-e4d2-3d90fd04a7dc"
      },
      "execution_count": 30,
      "outputs": [
        {
          "output_type": "stream",
          "name": "stdout",
          "text": [
            " expense is not found\n"
          ]
        }
      ]
    },
    {
      "cell_type": "markdown",
      "source": [
        " Write a program that prints following shape\n",
        " ```\n",
        " *\n",
        " **\n",
        " ***\n",
        " ****\n",
        " *****\n",
        " ```"
      ],
      "metadata": {
        "id": "NWzKWc8UGvzp"
      }
    },
    {
      "cell_type": "code",
      "source": [
        "a = '*'\n"
      ],
      "metadata": {
        "id": "JQ8iXxoWF562"
      },
      "execution_count": 32,
      "outputs": []
    },
    {
      "cell_type": "code",
      "source": [
        "print(a,\"\\n\",a,\"\\n\",a)"
      ],
      "metadata": {
        "colab": {
          "base_uri": "https://localhost:8080/"
        },
        "id": "UHcCRxyUG4YR",
        "outputId": "453a503b-d736-4882-9891-052578da3534"
      },
      "execution_count": 46,
      "outputs": [
        {
          "output_type": "stream",
          "name": "stdout",
          "text": [
            "* \n",
            " * \n",
            " *\n"
          ]
        }
      ]
    },
    {
      "cell_type": "markdown",
      "source": [
        "# exercise 10"
      ],
      "metadata": {
        "id": "s3ksi0xZI1iA"
      }
    },
    {
      "cell_type": "markdown",
      "source": [
        "1. Write a function called calculate_area that takes base and height as an input and returns and area of a triangle. Equation of an area of a triangle is,\n",
        " ```\n",
        " area = (1/2)*base*height\n",
        " ```"
      ],
      "metadata": {
        "id": "cI9dyxs-I5Tx"
      }
    },
    {
      "cell_type": "code",
      "source": [
        "\n",
        "base = int(input(\"Enter a value for base\"))\n",
        "height = int(input(\"enter a value for height\"))\n",
        "calculate_area = (1/2)*base*height"
      ],
      "metadata": {
        "colab": {
          "base_uri": "https://localhost:8080/"
        },
        "id": "KBiN7G-DI0sy",
        "outputId": "03f3fffc-f2d5-4600-ed78-faee95fe05d1"
      },
      "execution_count": 48,
      "outputs": [
        {
          "name": "stdout",
          "output_type": "stream",
          "text": [
            "Enter a value for base25\n",
            "enter a value for height56\n"
          ]
        }
      ]
    },
    {
      "cell_type": "code",
      "source": [
        "calculate_area"
      ],
      "metadata": {
        "colab": {
          "base_uri": "https://localhost:8080/"
        },
        "id": "cPLEStoYHELh",
        "outputId": "e6ba245e-05ad-4f3f-ebea-85ab49b56f57"
      },
      "execution_count": 49,
      "outputs": [
        {
          "output_type": "execute_result",
          "data": {
            "text/plain": [
              "700.0"
            ]
          },
          "metadata": {},
          "execution_count": 49
        }
      ]
    },
    {
      "cell_type": "markdown",
      "source": [
        " 2. Modify above function to take third parameter shape type. It can be either \"triangle\" or \"rectangle\". Based on shape type it will calculate area. Equation of rectangle's area is,\n",
        " ```\n",
        " rectangle area=length*width\n",
        " ```\n",
        " If no shape is supplied then it should take triangle as a default shape\n",
        "\n",
        " Calculate area of triangle whose base is 10 and height is 5"
      ],
      "metadata": {
        "id": "gr5iwQ-xJiCg"
      }
    },
    {
      "cell_type": "code",
      "source": [
        "width = int(input(\"enter width\"))\n",
        "length = int(input(\"enter a length\"))\n"
      ],
      "metadata": {
        "colab": {
          "base_uri": "https://localhost:8080/"
        },
        "id": "1muNHToOJdHv",
        "outputId": "0f19d43f-7bdd-4906-d7a5-e1df705722ad"
      },
      "execution_count": 52,
      "outputs": [
        {
          "name": "stdout",
          "output_type": "stream",
          "text": [
            "enter width45\n",
            "enter a length85\n"
          ]
        }
      ]
    },
    {
      "cell_type": "code",
      "source": [
        "rectangle_area=length*width"
      ],
      "metadata": {
        "id": "qy2wZdMOK6dn"
      },
      "execution_count": 54,
      "outputs": []
    },
    {
      "cell_type": "code",
      "source": [
        "rectangle_area"
      ],
      "metadata": {
        "colab": {
          "base_uri": "https://localhost:8080/"
        },
        "id": "zW2wVhKTLMvH",
        "outputId": "592f051b-7c43-4a5c-ef4a-3b27a68e0d56"
      },
      "execution_count": 55,
      "outputs": [
        {
          "output_type": "execute_result",
          "data": {
            "text/plain": [
              "3825"
            ]
          },
          "metadata": {},
          "execution_count": 55
        }
      ]
    },
    {
      "cell_type": "code",
      "source": [
        "shape=['triangle','rectangle']\n"
      ],
      "metadata": {
        "id": "rAul_tHDLRi_"
      },
      "execution_count": 56,
      "outputs": []
    },
    {
      "cell_type": "code",
      "source": [
        "if shape == traingle:\n",
        "  print(calculate_area)\n",
        "elif shape == rectangle:\n",
        "  print(rectangle_area)"
      ],
      "metadata": {
        "colab": {
          "base_uri": "https://localhost:8080/",
          "height": 217
        },
        "id": "nWV3X6u8Le01",
        "outputId": "2bcc2ebe-7be6-4111-d081-352c0b8c9a80"
      },
      "execution_count": 57,
      "outputs": [
        {
          "output_type": "error",
          "ename": "NameError",
          "evalue": "ignored",
          "traceback": [
            "\u001b[0;31m---------------------------------------------------------------------------\u001b[0m",
            "\u001b[0;31mNameError\u001b[0m                                 Traceback (most recent call last)",
            "\u001b[0;32m<ipython-input-57-a41835bf04af>\u001b[0m in \u001b[0;36m<cell line: 1>\u001b[0;34m()\u001b[0m\n\u001b[0;32m----> 1\u001b[0;31m \u001b[0;32mif\u001b[0m \u001b[0mshape\u001b[0m \u001b[0;34m==\u001b[0m \u001b[0mtraingle\u001b[0m\u001b[0;34m:\u001b[0m\u001b[0;34m\u001b[0m\u001b[0;34m\u001b[0m\u001b[0m\n\u001b[0m\u001b[1;32m      2\u001b[0m   \u001b[0mprint\u001b[0m\u001b[0;34m(\u001b[0m\u001b[0mcalculate_area\u001b[0m\u001b[0;34m)\u001b[0m\u001b[0;34m\u001b[0m\u001b[0;34m\u001b[0m\u001b[0m\n\u001b[1;32m      3\u001b[0m \u001b[0;32melif\u001b[0m \u001b[0mshape\u001b[0m \u001b[0;34m==\u001b[0m \u001b[0mrectangle\u001b[0m\u001b[0;34m:\u001b[0m\u001b[0;34m\u001b[0m\u001b[0;34m\u001b[0m\u001b[0m\n\u001b[1;32m      4\u001b[0m   \u001b[0mprint\u001b[0m\u001b[0;34m(\u001b[0m\u001b[0mrectangle_area\u001b[0m\u001b[0;34m)\u001b[0m\u001b[0;34m\u001b[0m\u001b[0;34m\u001b[0m\u001b[0m\n",
            "\u001b[0;31mNameError\u001b[0m: name 'traingle' is not defined"
          ]
        }
      ]
    },
    {
      "cell_type": "markdown",
      "source": [
        "# exercise 11"
      ],
      "metadata": {
        "id": "KH3Tkzb8NYKc"
      }
    },
    {
      "cell_type": "markdown",
      "source": [
        "We have following information on countries and their population (population is in crores),\n",
        "\n",
        "Country\tPopulation\n",
        "China\t143\n",
        "India\t136\n",
        "USA\t32\n",
        "Pakistan\t21\n",
        "Using above create a dictionary of countries and its population\n",
        "\n",
        "a)Write a program that asks user for three type of inputs,\n",
        "print: if user enter print then it should print all countries with their population in this format,\n",
        "china==>143\n",
        "india==>136\n",
        "usa==>32\n",
        "pakistan==>21\n",
        "\n",
        "b)add: if user input add then it should further ask for a country name to add. If country already exist in our dataset then it should print that it exist and do nothing. If it doesn't then it asks for population and add that new country/population in our dictionary and print it\n",
        "\n",
        "c)remove: when user inputs remove it should ask for a country to remove. If country exist in our dictionary then remove it and print new dictionary using format shown above in (a). Else print that country doesn't exist!\n",
        "\n",
        "d)query: on this again ask user for which country he or she wants to query. When user inputs that country it will print population of that country."
      ],
      "metadata": {
        "id": "5K0sX8AtNr4H"
      }
    },
    {
      "cell_type": "code",
      "source": [
        "dict = {'china':143,\n",
        "        'india':136,\n",
        "        'usa':32,\n",
        "        'pakistan':21}"
      ],
      "metadata": {
        "id": "Vo5hjVMZMT7-"
      },
      "execution_count": 1,
      "outputs": []
    },
    {
      "cell_type": "code",
      "source": [
        "def add"
      ],
      "metadata": {
        "id": "fSu-FoALObRB"
      },
      "execution_count": null,
      "outputs": []
    },
    {
      "cell_type": "markdown",
      "source": [
        "# exercise 13"
      ],
      "metadata": {
        "id": "OrcweMaQ05uI"
      }
    },
    {
      "cell_type": "markdown",
      "source": [
        "Create a sample class named Employee with two attributes id and name\n",
        "employee :\n",
        "    id\n",
        "    name\n",
        "object initializes id and name dynamically for every Employee object created.\n",
        "\n",
        "emp = Employee(1, \"coder\")"
      ],
      "metadata": {
        "id": "JXJUcl1m0533"
      }
    },
    {
      "cell_type": "code",
      "source": [
        "class employee:\n",
        "  def __init__(self,id,name):\n",
        "      id= input(\"Enter your id\")\n",
        "      name = input(\"Enter your name\")\n",
        "\n",
        "\n",
        "  def display(self):\n",
        "      print(f\"ID: {self.id} \\nName: {self.name}\")\n",
        "\n",
        "\n",
        "emp = employee(id, 'name')\n",
        "print(emp)\n",
        "\n"
      ],
      "metadata": {
        "colab": {
          "base_uri": "https://localhost:8080/"
        },
        "id": "iNq-_Sz109u_",
        "outputId": "8f26a078-e9f2-48fb-efa4-4bc57d0829fb"
      },
      "execution_count": 9,
      "outputs": [
        {
          "output_type": "stream",
          "name": "stdout",
          "text": [
            "Enter your id1\n",
            "Enter your namecoder\n",
            "<__main__.employee object at 0x7c33c0145990>\n"
          ]
        }
      ]
    },
    {
      "cell_type": "code",
      "source": [
        "print(emp)"
      ],
      "metadata": {
        "colab": {
          "base_uri": "https://localhost:8080/"
        },
        "id": "QLCItleE3HBG",
        "outputId": "294489d7-10b1-41f1-f764-6a26d9742a8e"
      },
      "execution_count": 7,
      "outputs": [
        {
          "output_type": "stream",
          "name": "stdout",
          "text": [
            "<__main__.employee object at 0x7c33c0146f80>\n"
          ]
        }
      ]
    },
    {
      "cell_type": "markdown",
      "source": [
        "create inheritance using animal Dog relation.\n",
        "for example,\n",
        "    Animal and Dog both has same habitat so create a method for habitat"
      ],
      "metadata": {
        "id": "LedqwuDSjvjz"
      }
    },
    {
      "cell_type": "code",
      "source": [
        "class animal:\n",
        "  def __init__(self,habitat):\n",
        "    self.habitat = habitat\n",
        "  def print_habitat(self):\n",
        "    print(self.habitat)\n",
        "\n",
        "  def sound(self):\n",
        "    print(\"same animal\")\n",
        "\n",
        "\n",
        "\n"
      ],
      "metadata": {
        "id": "cr4RmGVLiuq8"
      },
      "execution_count": 10,
      "outputs": []
    },
    {
      "cell_type": "markdown",
      "source": [
        "use super() constructor for calling parent constructor.\n",
        "class Animal:\n",
        "    #code\n",
        "\n",
        "class Dog(Animal):\n",
        "    super()-it refers Animal class,now you can call Animal's methods."
      ],
      "metadata": {
        "id": "EnhvQ2gGlKX7"
      }
    },
    {
      "cell_type": "code",
      "source": [
        "class dog(Animal):\n",
        "     def __init__(self):\n",
        "        super().__init__(\"Kennel\")\n",
        "\n",
        "     def sound(self):\n",
        "        print(\"Woof woof!\")\n",
        "\n",
        "\n",
        "x = dog()\n",
        "x.print_habitat()\n",
        "x.sound()"
      ],
      "metadata": {
        "colab": {
          "base_uri": "https://localhost:8080/",
          "height": 356
        },
        "id": "R5DswxXuk_FC",
        "outputId": "2697ab72-8ab3-4823-eb3d-21b6064a4a07"
      },
      "execution_count": 15,
      "outputs": [
        {
          "output_type": "error",
          "ename": "TypeError",
          "evalue": "ignored",
          "traceback": [
            "\u001b[0;31m---------------------------------------------------------------------------\u001b[0m",
            "\u001b[0;31mTypeError\u001b[0m                                 Traceback (most recent call last)",
            "\u001b[0;32m<ipython-input-15-5455ab2dce80>\u001b[0m in \u001b[0;36m<cell line: 9>\u001b[0;34m()\u001b[0m\n\u001b[1;32m      7\u001b[0m \u001b[0;34m\u001b[0m\u001b[0m\n\u001b[1;32m      8\u001b[0m \u001b[0;34m\u001b[0m\u001b[0m\n\u001b[0;32m----> 9\u001b[0;31m \u001b[0mx\u001b[0m \u001b[0;34m=\u001b[0m \u001b[0mdog\u001b[0m\u001b[0;34m(\u001b[0m\u001b[0;34m)\u001b[0m\u001b[0;34m\u001b[0m\u001b[0;34m\u001b[0m\u001b[0m\n\u001b[0m\u001b[1;32m     10\u001b[0m \u001b[0mx\u001b[0m\u001b[0;34m.\u001b[0m\u001b[0mprint_habitat\u001b[0m\u001b[0;34m(\u001b[0m\u001b[0;34m)\u001b[0m\u001b[0;34m\u001b[0m\u001b[0;34m\u001b[0m\u001b[0m\n\u001b[1;32m     11\u001b[0m \u001b[0mx\u001b[0m\u001b[0;34m.\u001b[0m\u001b[0msound\u001b[0m\u001b[0;34m(\u001b[0m\u001b[0;34m)\u001b[0m\u001b[0;34m\u001b[0m\u001b[0;34m\u001b[0m\u001b[0m\n",
            "\u001b[0;32m<ipython-input-15-5455ab2dce80>\u001b[0m in \u001b[0;36m__init__\u001b[0;34m(self)\u001b[0m\n\u001b[1;32m      1\u001b[0m \u001b[0;32mclass\u001b[0m \u001b[0mdog\u001b[0m\u001b[0;34m(\u001b[0m\u001b[0mAnimal\u001b[0m\u001b[0;34m)\u001b[0m\u001b[0;34m:\u001b[0m\u001b[0;34m\u001b[0m\u001b[0;34m\u001b[0m\u001b[0m\n\u001b[1;32m      2\u001b[0m      \u001b[0;32mdef\u001b[0m \u001b[0m__init__\u001b[0m\u001b[0;34m(\u001b[0m\u001b[0mself\u001b[0m\u001b[0;34m)\u001b[0m\u001b[0;34m:\u001b[0m\u001b[0;34m\u001b[0m\u001b[0;34m\u001b[0m\u001b[0m\n\u001b[0;32m----> 3\u001b[0;31m         \u001b[0msuper\u001b[0m\u001b[0;34m(\u001b[0m\u001b[0;34m)\u001b[0m\u001b[0;34m.\u001b[0m\u001b[0m__init__\u001b[0m\u001b[0;34m(\u001b[0m\u001b[0;34m\"Kennel\"\u001b[0m\u001b[0;34m)\u001b[0m\u001b[0;34m\u001b[0m\u001b[0;34m\u001b[0m\u001b[0m\n\u001b[0m\u001b[1;32m      4\u001b[0m \u001b[0;34m\u001b[0m\u001b[0m\n\u001b[1;32m      5\u001b[0m      \u001b[0;32mdef\u001b[0m \u001b[0msound\u001b[0m\u001b[0;34m(\u001b[0m\u001b[0mself\u001b[0m\u001b[0;34m)\u001b[0m\u001b[0;34m:\u001b[0m\u001b[0;34m\u001b[0m\u001b[0;34m\u001b[0m\u001b[0m\n",
            "\u001b[0;31mTypeError\u001b[0m: Animal.__init__() takes 1 positional argument but 2 were given"
          ]
        }
      ]
    },
    {
      "cell_type": "markdown",
      "source": [
        "Create multiple inheritance on teacher,student and youtuber.\n",
        "Q. if we have created teacher and now one student joins master degree with becoming teacher then what??\n",
        "\n",
        "Ans :  just make subclass from  teacher so that student will become teacher"
      ],
      "metadata": {
        "id": "XIp9_5qFl7C7"
      }
    },
    {
      "cell_type": "code",
      "source": [
        "class teacher:\n",
        "  def teachers(self):\n",
        "    print(\"I am teacher\")\n",
        "class student:\n",
        "  def students(self):\n",
        "    print(\"I am student\")\n",
        "\n",
        "class Youtuber:\n",
        "  def youtubers(self):\n",
        "    print(\"I am utuber\")\n",
        "class Person(teacher,student,Youtuber):\n",
        "  pass\n",
        "\n",
        "coder = Person()\n",
        "coder.teachers()\n",
        "coder.students()\n",
        "coder.youtubers()\n"
      ],
      "metadata": {
        "colab": {
          "base_uri": "https://localhost:8080/"
        },
        "id": "B-4i4jxLlhAz",
        "outputId": "0f6cf777-01b3-49a8-e2a1-e4bd57507bbb"
      },
      "execution_count": 17,
      "outputs": [
        {
          "output_type": "stream",
          "name": "stdout",
          "text": [
            "I am teacher\n",
            "I am student\n",
            "I am utuber\n"
          ]
        }
      ]
    },
    {
      "cell_type": "markdown",
      "source": [
        "Create a custom exception AdultException.\n",
        "\n",
        "Create a class Person with attributes name and age in it.\n",
        "\n",
        "Create a function get_minor_age() in the class. It throws an exception if the person is adult otherwise returns age.\n",
        "\n",
        "Create a function display_person() which prints the age and name of a person.\n",
        "\n",
        "let us say,\n",
        "\n",
        "if age>18\n",
        "    he is major\n",
        "else\n",
        "    raise exception\n",
        "\n",
        "create cusomException named ismajor and raise it if age<18."
      ],
      "metadata": {
        "id": "eRR5o9lynbLB"
      }
    },
    {
      "cell_type": "code",
      "source": [
        "class AdultException:\n",
        "  pass\n",
        "class person:\n",
        "  def __init__(self,name,age):\n",
        "    self.name=name\n",
        "    self.age=age\n",
        "  def get_minor_age(self):\n",
        "    if int(self.age)>=18:\n",
        "      print(\"major\")\n",
        "    else :\n",
        "      print(\" exception\")\n",
        "  def display_person(self,age,name):\n",
        "    self.age=age\n",
        "    self.name=name\n",
        "    print(age,name)"
      ],
      "metadata": {
        "id": "z-acJt7anUxJ"
      },
      "execution_count": 18,
      "outputs": []
    },
    {
      "cell_type": "markdown",
      "source": [
        "Create an iterator for fibonacci series in such a way that each next returns the next element from fibonacci series."
      ],
      "metadata": {
        "id": "fE38PVvDplAx"
      }
    },
    {
      "cell_type": "code",
      "source": [
        "class Fibonacci:\n",
        "    def __init__(self, limit):\n",
        "        self.previous = 0\n",
        "        self.current = 1\n",
        "        self.n = 1\n",
        "        self.limit = limit\n",
        "\n",
        "    def __iter__(self):\n",
        "        return self\n",
        "    def __next__(self):\n",
        "        if self.n < self.limit:\n",
        "            result = self.previous + self.current\n",
        "            self.previous = self.current\n",
        "            self.current = result\n",
        "            self.n += 1\n",
        "            return result\n",
        "        else:\n",
        "            raise StopIteration"
      ],
      "metadata": {
        "id": "LrkD0UeqnJ7L"
      },
      "execution_count": 20,
      "outputs": []
    },
    {
      "cell_type": "code",
      "source": [],
      "metadata": {
        "id": "0DGgUhYupzBp"
      },
      "execution_count": null,
      "outputs": []
    }
  ]
}